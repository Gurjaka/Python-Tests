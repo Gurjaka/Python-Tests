{
 "cells": [
  {
   "cell_type": "markdown",
   "metadata": {},
   "source": [
    "1) Write a Python program that accepts an integer (n) and computes the value of n+nn+nnn.\n",
    "Sample value of n is 5\n",
    "Expected Result : 615"
   ]
  },
  {
   "cell_type": "code",
   "execution_count": 59,
   "metadata": {},
   "outputs": [
    {
     "name": "stdout",
     "output_type": "stream",
     "text": [
      "615\n"
     ]
    }
   ],
   "source": [
    "n = int(input(\"N: \"))\n",
    "n2 = int(\"%s%s\" %(n,n))\n",
    "n3 = int(\"%s%s%s\" %(n,n,n))\n",
    "print(n+n2+n3)"
   ]
  },
  {
   "cell_type": "markdown",
   "metadata": {},
   "source": [
    "2) Write a Python program to print the documents (syntax, description etc.) of Python built-in function(s).\n",
    "Sample function : abs()\n",
    "Expected Result :\n",
    "abs(number) -> number\n",
    "Return the absolute value of the argument."
   ]
  },
  {
   "cell_type": "code",
   "execution_count": 16,
   "metadata": {},
   "outputs": [
    {
     "name": "stdout",
     "output_type": "stream",
     "text": [
      "abs(number) -> Number \n",
      "Return the absolute value of the argument.\n"
     ]
    }
   ],
   "source": [
    "print(f'abs(number) -> Number \\n{abs.__doc__}')"
   ]
  },
  {
   "cell_type": "markdown",
   "metadata": {},
   "source": [
    "3) Write a Python program that prints the calendar for a given month and year.\n",
    "Note : Use 'calendar' module."
   ]
  },
  {
   "cell_type": "code",
   "execution_count": 17,
   "metadata": {},
   "outputs": [
    {
     "name": "stdout",
     "output_type": "stream",
     "text": [
      "     April 2024\n",
      "Mo Tu We Th Fr Sa Su\n",
      " 1  2  3  4  5  6  7\n",
      " 8  9 10 11 12 13 14\n",
      "15 16 17 18 19 20 21\n",
      "22 23 24 25 26 27 28\n",
      "29 30\n",
      "\n"
     ]
    }
   ],
   "source": [
    "import calendar\n",
    "month = int(input(\"Month: \"))\n",
    "year = int(input(\"Year: \"))\n",
    "print(calendar.month(year, month))"
   ]
  },
  {
   "cell_type": "markdown",
   "metadata": {},
   "source": [
    "4) Write a Python program to print the following 'here document'.\n",
    "Sample string :\n",
    "a string that you \"don't\" have to escape\n",
    "This\n",
    "is a ....... multi-line\n",
    "heredoc string --------> example"
   ]
  },
  {
   "cell_type": "code",
   "execution_count": 18,
   "metadata": {},
   "outputs": [
    {
     "name": "stdout",
     "output_type": "stream",
     "text": [
      "a string that you \"don't\" have to escape\n",
      "This\n",
      "is a ....... multi-line\n",
      "heredoc string --------> example\n"
     ]
    }
   ],
   "source": [
    "print(\"\"\"a string that you \"don't\" have to escape\n",
    "This\n",
    "is a ....... multi-line\n",
    "heredoc string --------> example\"\"\")"
   ]
  },
  {
   "cell_type": "markdown",
   "metadata": {},
   "source": [
    "5) Write a Python program to calculate the number of days between two dates.\n",
    "Sample dates : (2014, 7, 2), (2014, 7, 11)\n",
    "Expected output : 9 days"
   ]
  },
  {
   "cell_type": "code",
   "execution_count": 24,
   "metadata": {},
   "outputs": [
    {
     "name": "stdout",
     "output_type": "stream",
     "text": [
      "9 days\n"
     ]
    }
   ],
   "source": [
    "import datetime\n",
    "f_date = datetime.date(2014, 7, 2)\n",
    "l_date = datetime.date(2014, 7, 11)\n",
    "print((l_date - f_date).days, \"days\")"
   ]
  },
  {
   "cell_type": "markdown",
   "metadata": {},
   "source": [
    "6) Write a Python program to get the volume of a sphere with radius 6."
   ]
  },
  {
   "cell_type": "code",
   "execution_count": 25,
   "metadata": {},
   "outputs": [
    {
     "name": "stdout",
     "output_type": "stream",
     "text": [
      "904.7786842338603\n"
     ]
    }
   ],
   "source": [
    "import math\n",
    "r = 6\n",
    "print((4/3)*math.pi*(r**3))"
   ]
  },
  {
   "cell_type": "markdown",
   "metadata": {},
   "source": [
    "7) Write a Python program to calculate the difference between a given number and 17. If the number is greater than 17, return twice the absolute difference."
   ]
  },
  {
   "cell_type": "code",
   "execution_count": 28,
   "metadata": {},
   "outputs": [
    {
     "name": "stdout",
     "output_type": "stream",
     "text": [
      "2\n"
     ]
    }
   ],
   "source": [
    "num = int(input(\"Num: \"))\n",
    "if num <= 17:\n",
    "    print(abs(num - 17))\n",
    "elif num >= 17:\n",
    "    print(2*abs(num-17))"
   ]
  },
  {
   "cell_type": "markdown",
   "metadata": {},
   "source": [
    "8) Write a Python program to test whether a number is within 100 of 1000 or 2000."
   ]
  },
  {
   "cell_type": "code",
   "execution_count": 38,
   "metadata": {},
   "outputs": [
    {
     "name": "stdout",
     "output_type": "stream",
     "text": [
      "100-1000\n"
     ]
    }
   ],
   "source": [
    "num = int(input(\"Num: \"))\n",
    "if num in range(100,1000):\n",
    "    print(\"100-1000\")\n",
    "elif num in range(1000, 2000):\n",
    "    print(\"1000-2000\")\n",
    "else:\n",
    "    print(\"not in 100-2000\")"
   ]
  },
  {
   "cell_type": "markdown",
   "metadata": {},
   "source": [
    "9) Write a Python program to calculate the sum of three given numbers. If the values are equal, return three times their sum."
   ]
  },
  {
   "cell_type": "code",
   "execution_count": 32,
   "metadata": {},
   "outputs": [
    {
     "name": "stdout",
     "output_type": "stream",
     "text": [
      "6\n"
     ]
    }
   ],
   "source": [
    "num1 = int(input(\"Num1: \"))\n",
    "num2 = int(input(\"Num2: \"))\n",
    "num3 = int(input(\"Num3: \"))\n",
    "if num1 == num2 == num3:\n",
    "    print(3*(num1+num2+num3))\n",
    "else:\n",
    "    print(num1+num2+num3)"
   ]
  },
  {
   "cell_type": "markdown",
   "metadata": {},
   "source": [
    "10) Write a Python program to get a newly-generated string from a given string where \"Is\" has been added to the front. Return the string unchanged if the given string already begins with \"Is\"."
   ]
  },
  {
   "cell_type": "code",
   "execution_count": 45,
   "metadata": {},
   "outputs": [
    {
     "name": "stdout",
     "output_type": "stream",
     "text": [
      "is gamarjoba\n"
     ]
    }
   ],
   "source": [
    "string = input(\"Text: \")\n",
    "if string[:2].lower() != \"is\":\n",
    "    print(\"Is \"+string)\n",
    "else:\n",
    "    print(string)"
   ]
  },
  {
   "cell_type": "markdown",
   "metadata": {},
   "source": [
    "11) Write a Python program that returns a string that is n (non-negative integer) copies of a given string.\n"
   ]
  },
  {
   "cell_type": "code",
   "execution_count": 41,
   "metadata": {},
   "outputs": [
    {
     "name": "stdout",
     "output_type": "stream",
     "text": [
      "kalbasikalbasikalbasikalbasikalbasi\n"
     ]
    }
   ],
   "source": [
    "string = input(\"Text: \")\n",
    "n = int(input(\"N: \"))\n",
    "while n < 0:\n",
    "    n = int(input(\"N: \"))\n",
    "print(string*n)"
   ]
  },
  {
   "cell_type": "markdown",
   "metadata": {},
   "source": [
    "12) Write a Python program that determines whether a given number (accepted from the user) is even or odd, and prints an appropriate message to the user."
   ]
  },
  {
   "cell_type": "code",
   "execution_count": 43,
   "metadata": {},
   "outputs": [
    {
     "name": "stdout",
     "output_type": "stream",
     "text": [
      "even\n"
     ]
    }
   ],
   "source": [
    "num = int(input(\"Num: \"))\n",
    "if num % 2 == 1:\n",
    "    print(\"odd\")\n",
    "else:\n",
    "    print(\"even\")"
   ]
  },
  {
   "cell_type": "markdown",
   "metadata": {},
   "source": [
    "13) Write a Python program to count the number 4 in a given list."
   ]
  },
  {
   "cell_type": "code",
   "execution_count": 44,
   "metadata": {},
   "outputs": [
    {
     "name": "stdout",
     "output_type": "stream",
     "text": [
      "2\n"
     ]
    }
   ],
   "source": [
    "nums = [1, 4, 6, 7, 4]\n",
    "print(nums.count(4))"
   ]
  },
  {
   "cell_type": "markdown",
   "metadata": {},
   "source": [
    "14) Write a Python program to get n (non-negative integer) copies of the first 2 characters of a given string. Return n copies of the whole string if the length is less than 2."
   ]
  },
  {
   "cell_type": "code",
   "execution_count": 47,
   "metadata": {},
   "outputs": [
    {
     "name": "stdout",
     "output_type": "stream",
     "text": [
      "gagagagaga\n"
     ]
    }
   ],
   "source": [
    "string = input(\"text: \")\n",
    "num = int(input(\"Num: \"))\n",
    "if len(string) < 2:\n",
    "    print(string*num)\n",
    "else:\n",
    "    print(string[:2]*num)"
   ]
  },
  {
   "cell_type": "markdown",
   "metadata": {},
   "source": [
    "15) Write a Python program to test whether a passed letter is a vowel or not.\n"
   ]
  },
  {
   "cell_type": "code",
   "execution_count": 49,
   "metadata": {},
   "outputs": [
    {
     "name": "stdout",
     "output_type": "stream",
     "text": [
      "Isn't vowel\n"
     ]
    }
   ],
   "source": [
    "vowels = \"aeiou\"\n",
    "letter = input(\"Letter: \")\n",
    "if letter in vowels:\n",
    "    print(\"Is vowel\")\n",
    "else:\n",
    "    print(\"Isn't vowel\")"
   ]
  },
  {
   "cell_type": "markdown",
   "metadata": {},
   "source": [
    "16) Write a Python program that checks whether a specified value is contained within a group of values.\n",
    "Test Data :\n",
    "3 -> [1, 5, 8, 3] : True\n",
    "-1 -> [1, 5, 8, 3] : False"
   ]
  },
  {
   "cell_type": "code",
   "execution_count": 51,
   "metadata": {},
   "outputs": [
    {
     "name": "stdout",
     "output_type": "stream",
     "text": [
      "False\n"
     ]
    }
   ],
   "source": [
    "data = [1, 5, 8, 3]\n",
    "num = int(input(\"Num: \"))\n",
    "if num in data:\n",
    "    print(True)\n",
    "else:\n",
    "    print(False)"
   ]
  },
  {
   "cell_type": "markdown",
   "metadata": {},
   "source": [
    "17) Write a Python program to create a histogram from a given list of integers."
   ]
  },
  {
   "cell_type": "code",
   "execution_count": 56,
   "metadata": {},
   "outputs": [
    {
     "name": "stdout",
     "output_type": "stream",
     "text": [
      "**\n",
      "***\n",
      "******\n",
      "*****\n"
     ]
    }
   ],
   "source": [
    "data = [2, 3, 6, 5]\n",
    "for i in data:\n",
    "    print(\"*\"*i)"
   ]
  },
  {
   "cell_type": "markdown",
   "metadata": {},
   "source": [
    "18) Write a Python program that concatenates all elements in a list into a string and returns it."
   ]
  },
  {
   "cell_type": "code",
   "execution_count": 61,
   "metadata": {},
   "outputs": [
    {
     "name": "stdout",
     "output_type": "stream",
     "text": [
      "15122\n"
     ]
    }
   ],
   "source": [
    "data = [1, 5, 12, 2]\n",
    "string = \"\"\n",
    "for i in data:\n",
    "    string += str(i)\n",
    "\n",
    "print(string)"
   ]
  },
  {
   "cell_type": "markdown",
   "metadata": {},
   "source": [
    "19) Write a Python program to print all even numbers from a given list of numbers in the same order and stop printing any after 237 in the sequence.\n",
    "Sample numbers list :\n",
    "\n",
    "numbers = [    \n",
    "    386, 462, 47, 418, 907, 344, 236, 375, 823, 566, 597, 978, 328, 615, 953, 345, \n",
    "    399, 162, 758, 219, 918, 237, 412, 566, 826, 248, 866, 950, 626, 949, 687, 217, \n",
    "    815, 67, 104, 58, 512, 24, 892, 894, 767, 553, 81, 379, 843, 831, 445, 742, 717, \n",
    "    958,743, 527\n",
    "    ]"
   ]
  },
  {
   "cell_type": "code",
   "execution_count": 1,
   "metadata": {},
   "outputs": [
    {
     "name": "stdout",
     "output_type": "stream",
     "text": [
      "386\n",
      "462\n",
      "418\n",
      "344\n",
      "236\n",
      "566\n",
      "978\n",
      "328\n",
      "162\n",
      "758\n",
      "918\n"
     ]
    }
   ],
   "source": [
    "numbers = [    \n",
    "    386, 462, 47, 418, 907, 344, 236, 375, 823, 566, 597, 978, 328, 615, 953, 345, \n",
    "    399, 162, 758, 219, 918, 237, 412, 566, 826, 248, 866, 950, 626, 949, 687, 217, \n",
    "    815, 67, 104, 58, 512, 24, 892, 894, 767, 553, 81, 379, 843, 831, 445, 742, 717, \n",
    "    958,743, 527\n",
    "    ]\n",
    "for i in numbers:\n",
    "    if i == 237:\n",
    "        break\n",
    "    if i % 2 == 0:\n",
    "        print(i)"
   ]
  },
  {
   "cell_type": "markdown",
   "metadata": {},
   "source": [
    "20) Write a Python program that prints out all colors from color_list_1 that are not present in color_list_2.\n",
    "Test Data :\n",
    "color_list_1 = set([\"White\", \"Black\", \"Red\"])\n",
    "color_list_2 = set([\"Red\", \"Green\"])\n",
    "Expected Output :\n",
    "{'Black', 'White'}"
   ]
  },
  {
   "cell_type": "code",
   "execution_count": 6,
   "metadata": {},
   "outputs": [
    {
     "name": "stdout",
     "output_type": "stream",
     "text": [
      "{'Black', 'White'}\n"
     ]
    }
   ],
   "source": [
    "color_list_1 = set([\"White\", \"Black\", \"Red\"])\n",
    "color_list_2 = set([\"Red\", \"Green\"])\n",
    "color = set([])\n",
    "for i in color_list_1:\n",
    "    if i not in color_list_2:\n",
    "        color.add(i)\n",
    "print(color)"
   ]
  },
  {
   "cell_type": "markdown",
   "metadata": {},
   "source": [
    "21)  Write a Python program that will accept the base and height of a triangle and compute its area."
   ]
  },
  {
   "cell_type": "code",
   "execution_count": 2,
   "metadata": {},
   "outputs": [
    {
     "name": "stdout",
     "output_type": "stream",
     "text": [
      "Area:  3.0\n"
     ]
    }
   ],
   "source": [
    "base = int(input(\"Base: \"))\n",
    "height = int(input(\"Height: \"))\n",
    "\n",
    "print(\"Area: \", (base*height)/2)"
   ]
  },
  {
   "cell_type": "markdown",
   "metadata": {},
   "source": [
    "22) Write a Python program that computes the greatest common divisor (GCD) of two positive integers."
   ]
  },
  {
   "cell_type": "code",
   "execution_count": 5,
   "metadata": {},
   "outputs": [
    {
     "name": "stdout",
     "output_type": "stream",
     "text": [
      "5\n"
     ]
    }
   ],
   "source": [
    "import math\n",
    "a = int(input(\"Num1: \"))\n",
    "b = int(input(\"Num2: \"))\n",
    "print(math.gcd(a,b))"
   ]
  },
  {
   "cell_type": "markdown",
   "metadata": {},
   "source": [
    "23) Write a Python program to find the least common multiple (LCM) of two positive integers."
   ]
  },
  {
   "cell_type": "code",
   "execution_count": 7,
   "metadata": {},
   "outputs": [
    {
     "name": "stdout",
     "output_type": "stream",
     "text": [
      "25\n"
     ]
    }
   ],
   "source": [
    "import math\n",
    "a = int(input(\"Num1: \"))\n",
    "b = int(input(\"Num2: \"))\n",
    "print(math.lcm(a,b))"
   ]
  },
  {
   "cell_type": "markdown",
   "metadata": {},
   "source": [
    "24) Write a Python program to sum three given integers. However, if two values are equal, the sum will be zero."
   ]
  },
  {
   "cell_type": "code",
   "execution_count": 5,
   "metadata": {},
   "outputs": [
    {
     "name": "stdout",
     "output_type": "stream",
     "text": [
      "12\n"
     ]
    }
   ],
   "source": [
    "nums = (1, 5, 6)\n",
    "x = sum(nums)\n",
    "for i in range(len(nums)):\n",
    "    for j in range(len(nums)):\n",
    "        if i == j:\n",
    "            continue\n",
    "        if nums[i] == nums[j]:\n",
    "            x = 0\n",
    "\n",
    "print(x)"
   ]
  },
  {
   "cell_type": "markdown",
   "metadata": {},
   "source": [
    "25) Write a Python program to sum two given integers. However, if the sum is between 15 and 20 it will return 20."
   ]
  },
  {
   "cell_type": "code",
   "execution_count": 8,
   "metadata": {},
   "outputs": [
    {
     "name": "stdout",
     "output_type": "stream",
     "text": [
      "20\n"
     ]
    }
   ],
   "source": [
    "nums = (int(input(\"Num1: \")), int(input(\"Num2: \")))\n",
    "x = sum(nums)\n",
    "if x in range(15,20):\n",
    "    x = 20\n",
    "print(x)"
   ]
  },
  {
   "cell_type": "markdown",
   "metadata": {},
   "source": [
    "26) Write a Python program that returns true if the two given integer values are equal or their sum or difference is 5."
   ]
  },
  {
   "cell_type": "code",
   "execution_count": 12,
   "metadata": {},
   "outputs": [
    {
     "name": "stdout",
     "output_type": "stream",
     "text": [
      "False\n"
     ]
    }
   ],
   "source": [
    "num1 = int(input(\"Num1: \"))\n",
    "num2 = int(input(\"Num2: \"))\n",
    "\n",
    "if num1 == num2:\n",
    "    print(True)\n",
    "elif num1 + num2 == 5:\n",
    "    print(True)\n",
    "elif num1 - num2 == 5:\n",
    "    print(True)\n",
    "else:\n",
    "    print(False)"
   ]
  },
  {
   "cell_type": "markdown",
   "metadata": {},
   "source": [
    "27) Write a Python program to add two objects if both objects are integers."
   ]
  },
  {
   "cell_type": "code",
   "execution_count": 18,
   "metadata": {},
   "outputs": [
    {
     "name": "stdout",
     "output_type": "stream",
     "text": [
      "11\n"
     ]
    }
   ],
   "source": [
    "obj = 5\n",
    "obj2 = 6\n",
    "\n",
    "if all([type(obj), type(obj2) == int]):\n",
    "    print(obj+obj2)\n"
   ]
  },
  {
   "cell_type": "markdown",
   "metadata": {},
   "source": [
    "28) Write a Python program that displays your name, age, and address on three different lines."
   ]
  },
  {
   "cell_type": "code",
   "execution_count": 19,
   "metadata": {},
   "outputs": [
    {
     "name": "stdout",
     "output_type": "stream",
     "text": [
      "Gurami\n",
      "14\n",
      "Zugdidi\n"
     ]
    }
   ],
   "source": [
    "print(f'{input(\"Name: \")}\\n{input(\"Age: \")}\\n{input(\"Adress: \")}')"
   ]
  },
  {
   "cell_type": "markdown",
   "metadata": {},
   "source": [
    "29)  Write a Python program to solve (x + y) * (x + y).\n",
    "Test Data : x = 4, y = 3\n",
    "Expected Output : (4 + 3) ^ 2) = 49"
   ]
  },
  {
   "cell_type": "code",
   "execution_count": 21,
   "metadata": {},
   "outputs": [
    {
     "name": "stdout",
     "output_type": "stream",
     "text": [
      "(4+3)^2 = 49\n"
     ]
    }
   ],
   "source": [
    "x = 4\n",
    "y = 3\n",
    "print(f\"({x}+{y})^2 = {(x+y)**2}\")"
   ]
  },
  {
   "cell_type": "markdown",
   "metadata": {},
   "source": [
    "30) Write a Python program to compute the future value of a specified principal amount, rate of interest, and number of years.\n",
    "Test Data : amt = 10000, int = 3.5, years = 7\n",
    "Expected Output : 12722.79"
   ]
  },
  {
   "cell_type": "code",
   "execution_count": 28,
   "metadata": {},
   "outputs": [
    {
     "name": "stdout",
     "output_type": "stream",
     "text": [
      "12722.792627665729\n"
     ]
    }
   ],
   "source": [
    "amt = 10000\n",
    "interest = 3.5\n",
    "years = 7\n",
    "print(amt * (1 + 0.01*interest)**years)"
   ]
  },
  {
   "cell_type": "markdown",
   "metadata": {},
   "source": [
    "31) Write a Python program to calculate the distance between the points (x1, y1) and (x2, y2)."
   ]
  },
  {
   "cell_type": "code",
   "execution_count": 29,
   "metadata": {},
   "outputs": [
    {
     "name": "stdout",
     "output_type": "stream",
     "text": [
      "5.0\n"
     ]
    }
   ],
   "source": [
    "import math\n",
    "x1 = 3\n",
    "x2 = 7\n",
    "y1 = 4\n",
    "y2 = 7\n",
    "print(math.sqrt((x2-x1)**2+(y2-y1)**2))"
   ]
  },
  {
   "cell_type": "markdown",
   "metadata": {},
   "source": [
    "32) Write a Python program to check whether a file exists."
   ]
  },
  {
   "cell_type": "code",
   "execution_count": 31,
   "metadata": {},
   "outputs": [
    {
     "name": "stdout",
     "output_type": "stream",
     "text": [
      "False\n"
     ]
    }
   ],
   "source": [
    "import os.path\n",
    "print(os.path.isfile(\"./shell.nix\"))"
   ]
  },
  {
   "cell_type": "markdown",
   "metadata": {},
   "source": [
    "33) Write a Python program to determine if a Python shell is executing in 32bit or 64bit mode on OS."
   ]
  },
  {
   "cell_type": "code",
   "execution_count": 32,
   "metadata": {},
   "outputs": [
    {
     "name": "stdout",
     "output_type": "stream",
     "text": [
      "64\n"
     ]
    }
   ],
   "source": [
    "import struct\n",
    "print(struct.calcsize(\"P\") * 8)"
   ]
  },
  {
   "cell_type": "markdown",
   "metadata": {},
   "source": [
    "34) Write a Python program to get OS name, platform and release information."
   ]
  },
  {
   "cell_type": "code",
   "execution_count": 36,
   "metadata": {},
   "outputs": [
    {
     "name": "stdout",
     "output_type": "stream",
     "text": [
      "posix\n",
      "Linux\n",
      "6.9.7-zen1\n"
     ]
    }
   ],
   "source": [
    "import os\n",
    "import platform\n",
    "print(f'{os.name}\\n{platform.system()}\\n{platform.release()}')"
   ]
  },
  {
   "cell_type": "markdown",
   "metadata": {},
   "source": [
    "35) Write a Python program to locate Python site packages."
   ]
  },
  {
   "cell_type": "code",
   "execution_count": 37,
   "metadata": {},
   "outputs": [
    {
     "name": "stdout",
     "output_type": "stream",
     "text": [
      "['/nix/store/wb31xp493055f9vgiq648bq0yxkfw1j8-python3-3.11.9-env/lib/python3.11/site-packages', '/nix/store/6b1fqdwb3g56j5pazv8zkx9qd0mv3wiz-python3-3.11.9/lib/python3.11/site-packages']\n"
     ]
    }
   ],
   "source": [
    "import site\n",
    "print(site.getsitepackages())"
   ]
  },
  {
   "cell_type": "markdown",
   "metadata": {},
   "source": [
    "36) Write a Python program that calls an external command."
   ]
  },
  {
   "cell_type": "code",
   "execution_count": 45,
   "metadata": {},
   "outputs": [
    {
     "name": "stdout",
     "output_type": "stream",
     "text": [
      "total 52\n",
      "drwxr-xr-x 4 gurami users  4096 Jul  3 00:00 .\n",
      "drwxr-xr-x 5 gurami users  4096 Jul  2 22:18 ..\n",
      "-rw-r--r-- 1 gurami users 20523 Jul  2 23:49 150 Basics Test.ipynb\n",
      "drwxr-xr-x 3 gurami users  4096 Jul  2 22:20 .direnv\n",
      "-rw-r--r-- 1 gurami users     8 Jul  2 22:20 .envrc\n",
      "drwxr-xr-x 8 gurami users  4096 Jul  2 22:18 .git\n",
      "-rw-r--r-- 1 gurami users   366 Jun 30 23:48 shell.nix\n",
      "lrwxrwxrwx 1 gurami users    62 Jul  3 00:00 .venv -> /nix/store/wb31xp493055f9vgiq648bq0yxkfw1j8-python3-3.11.9-env\n",
      "          ▗▄▄▄       ▗▄▄▄▄    ▄▄▄▖\n",
      "          ▜███▙       ▜███▙  ▟███▛\n",
      "           ▜███▙       ▜███▙▟███▛\n",
      "            ▜███▙       ▜██████▛\n",
      "     ▟█████████████████▙ ▜████▛     ▟▙\n",
      "    ▟███████████████████▙ ▜███▙    ▟██▙\n",
      "           ▄▄▄▄▖           ▜███▙  ▟███▛\n",
      "          ▟███▛             ▜██▛ ▟███▛\n",
      "         ▟███▛               ▜▛ ▟███▛\n",
      "▟███████████▛                  ▟██████████▙\n",
      "▜██████████▛                  ▟███████████▛\n",
      "      ▟███▛ ▟▙               ▟███▛\n",
      "     ▟███▛ ▟██▙             ▟███▛\n",
      "    ▟███▛  ▜███▙           ▝▀▀▀▀\n",
      "    ▜██▛    ▜███▙ ▜██████████████████▛\n",
      "     ▜▛     ▟████▙ ▜████████████████▛\n",
      "           ▟██████▙       ▜███▙\n",
      "          ▟███▛▜███▙       ▜███▙\n",
      "         ▟███▛  ▜███▙       ▜███▙\n",
      "         ▝▀▀▀    ▀▀▀▀▘       ▀▀▀▘\u001b[1G\u001b[19A\u001b[47C\t\t\tコンピューター\n",
      "\u001b[47C┌──────────────────────────────────────────┐\n",
      "\u001b[47C   OS : NixOS 24.11.20240629.2741b4b (Vicuna) x86_64\n",
      "\u001b[47C   Kernel : Linux 6.9.7-zen1\n",
      "\u001b[47C   Packages : 1369 (nix-system), 850 (nix-user)\n",
      "\u001b[47C  󰍹 Display : 1920x1080 @ 60Hz [Built-in]\n",
      "\u001b[47C  󱂬 WM : python3.11 (Wayland)\n",
      "\u001b[47C   Terminal : .jupyter-notebo\n",
      "\u001b[47C└──────────────────────────────────────────┘\n",
      "\u001b[47C\n",
      "\u001b[47C   : gurami@laptop\n",
      "\u001b[47C┌──────────────────────────────────────────┐\n",
      "\u001b[47C   CPU : Intel(R) Core(TM) i5-8250U\n",
      "\u001b[47C   GPU : UHD Graphics 620\n",
      "\u001b[47C   GPU Driver : i915\n",
      "\u001b[47C  ﬙ Memory : 4.99 GiB / 7.11 GiB (70%)\n",
      "\u001b[47C└───────────────────────────���──────────────┘\n",
      "\u001b[47C\n",
      "\u001b[47C  ● ● ● ● ● ● ● ●\n",
      "\u001b[47C\n",
      "6.9.7-zen1\n"
     ]
    },
    {
     "data": {
      "text/plain": [
       "0"
      ]
     },
     "execution_count": 45,
     "metadata": {},
     "output_type": "execute_result"
    }
   ],
   "source": [
    "from subprocess import call\n",
    "call([\"ls\", \"-la\"])\n",
    "call([\"fastfetch\"])\n",
    "call([\"uname\", \"-r\"])"
   ]
  },
  {
   "cell_type": "markdown",
   "metadata": {},
   "source": [
    "37) Write a Python program to retrieve the path and name of the file currently being executed."
   ]
  },
  {
   "cell_type": "code",
   "execution_count": null,
   "metadata": {},
   "outputs": [],
   "source": [
    "import os\n",
    "print(os.path.realpath(__file__))"
   ]
  },
  {
   "cell_type": "markdown",
   "metadata": {},
   "source": [
    "38) Write a Python program to find out the number of CPUs used."
   ]
  },
  {
   "cell_type": "code",
   "execution_count": 57,
   "metadata": {},
   "outputs": [
    {
     "name": "stdout",
     "output_type": "stream",
     "text": [
      "8\n"
     ]
    }
   ],
   "source": [
    "import multiprocessing\n",
    "print(multiprocessing.cpu_count())"
   ]
  },
  {
   "cell_type": "markdown",
   "metadata": {},
   "source": [
    "39) Write a Python program to parse a string to float or integer."
   ]
  },
  {
   "cell_type": "code",
   "execution_count": 61,
   "metadata": {},
   "outputs": [
    {
     "name": "stdout",
     "output_type": "stream",
     "text": [
      "1759123.19285\n",
      "1759123\n"
     ]
    }
   ],
   "source": [
    "string = \"1759123.19285\"\n",
    "print(float(string))\n",
    "print(int(float(string)))"
   ]
  },
  {
   "cell_type": "markdown",
   "metadata": {},
   "source": [
    "40) Write a Python program to list all files in a directory."
   ]
  },
  {
   "cell_type": "code",
   "execution_count": 62,
   "metadata": {},
   "outputs": [
    {
     "name": "stdout",
     "output_type": "stream",
     "text": [
      "['150 Basics Test.ipynb', '.venv', 'shell.nix', '.envrc', '.git', 'rame.py', '.direnv']\n"
     ]
    }
   ],
   "source": [
    "import os\n",
    "print(os.listdir())"
   ]
  },
  {
   "cell_type": "markdown",
   "metadata": {},
   "source": [
    "41) Write a Python program to print without a newline or space.\n"
   ]
  },
  {
   "cell_type": "code",
   "execution_count": 63,
   "metadata": {},
   "outputs": [
    {
     "name": "stdout",
     "output_type": "stream",
     "text": [
      "*****"
     ]
    }
   ],
   "source": [
    "for i in range(0,5):\n",
    "    print(\"*\",end=\"\")"
   ]
  },
  {
   "cell_type": "markdown",
   "metadata": {},
   "source": [
    "42) Write a Python program to determine the profiling of Python programs.\n",
    "Note: A profile is a set of statistics that describes how often and for how long various parts of the program executed. These statistics can be formatted into reports via the pstats module."
   ]
  },
  {
   "cell_type": "code",
   "execution_count": null,
   "metadata": {},
   "outputs": [],
   "source": [
    "pass"
   ]
  },
  {
   "cell_type": "markdown",
   "metadata": {},
   "source": [
    "43) Write a Python program to print to STDERR."
   ]
  },
  {
   "cell_type": "code",
   "execution_count": null,
   "metadata": {},
   "outputs": [],
   "source": [
    "from __future__ import print_function\n",
    "import sys\n",
    "\n",
    "def eprint(*args, **kwargs):\n",
    "    print(*args, file=sys.stderr, **kwargs)"
   ]
  },
  {
   "cell_type": "markdown",
   "metadata": {},
   "source": [
    "44) Write a Python program to access environment variables."
   ]
  },
  {
   "cell_type": "code",
   "execution_count": 67,
   "metadata": {},
   "outputs": [
    {
     "name": "stdout",
     "output_type": "stream",
     "text": [
      "environ({'SHELL': '/nix/store/agkxax48k35wdmkhmmija2i2sxg8i7ny-bash-5.2p26/bin/bash', '__ETC_PROFILE_DONE': '1', 'XDG_CONFIG_DIRS': '/etc/xdg:/home/gurami/.nix-profile/etc/xdg:/nix/profile/etc/xdg:/home/gurami/.local/state/nix/profile/etc/xdg:/etc/profiles/per-user/gurami/etc/xdg:/nix/var/nix/profiles/default/etc/xdg:/run/current-system/sw/etc/xdg', 'PYTHONUNBUFFERED': '1', 'NIX_LD_LIBRARY_PATH': '/run/current-system/sw/share/nix-ld/lib', 'NIX_BUILD_CORES': '8', 'WLR_NO_HARDWARE_CURSORS': '1', 'configureFlags': '', 'mesonFlags': '', 'PYTHONNOUSERSITE': 'true', 'depsHostHost': '', 'DIRENV_DIR': '-/home/gurami/Documents/Python-Tests', 'STRINGS': 'strings', 'depsTargetTarget': '', 'XCURSOR_PATH': '/home/gurami/.icons:/home/gurami/.local/share/icons:/home/gurami/.nix-profile/share/icons:/home/gurami/.nix-profile/share/pixmaps:/nix/profile/share/icons:/nix/profile/share/pixmaps:/home/gurami/.local/state/nix/profile/share/icons:/home/gurami/.local/state/nix/profile/share/pixmaps:/etc/profiles/per-user/gurami/share/icons:/etc/profiles/per-user/gurami/share/pixmaps:/nix/var/nix/profiles/default/share/icons:/nix/var/nix/profiles/default/share/pixmaps:/run/current-system/sw/share/icons:/run/current-system/sw/share/pixmaps', 'PYTHON_FROZEN_MODULES': 'on', 'ELECTRON_RUN_AS_NODE': '1', 'stdenv': '/nix/store/d3dzfy4amjl826fb8j00qp1d9887h7hm-stdenv-linux', 'builder': '/nix/store/agkxax48k35wdmkhmmija2i2sxg8i7ny-bash-5.2p26/bin/bash', 'DESKTOP_SESSION': 'qtile-wayland', 'GDK_PIXBUF_MODULE_FILE': '/nix/store/rc237l683018a3xja66d0qdpdkaxyj2i-librsvg-2.58.1/lib/gdk-pixbuf-2.0/2.10.0/loaders.cache', 'shellHook': 'venv=\"$(cd $(dirname $(which python)); cd ..; pwd)\"\\nln -Tsf \"$venv\" .venv\\n', 'NO_AT_BRIDGE': '1', 'VSCODE_AMD_ENTRYPOINT': 'vs/workbench/api/node/extensionHostProcess', 'DIRENV_FILE': '/home/gurami/Documents/Python-Tests/.envrc', 'EDITOR': 'nano', 'phases': 'buildPhase', 'XDG_SEAT': 'seat0', 'PWD': '/home/gurami', 'NIX_PROFILES': '/run/current-system/sw /nix/var/nix/profiles/default /etc/profiles/per-user/gurami /home/gurami/.local/state/nix/profile /nix/profile /home/gurami/.nix-profile', 'SOURCE_DATE_EPOCH': '315532800', 'XDG_SESSION_DESKTOP': 'qtile:wlroots', 'LOGNAME': 'gurami', 'XDG_SESSION_TYPE': 'wayland', 'NIX_ENFORCE_NO_NATIVE': '1', 'NIX_PATH': 'nixpkgs=flake:nixpkgs:/nix/var/nix/profiles/per-user/root/channels', 'VSCODE_CODE_CACHE_PATH': '/home/gurami/.config/Code/CachedData/5437499feb04f7a586f677b155b039bc2b3669eb', 'NIXPKGS_CONFIG': '/etc/nix/nixpkgs-config.nix', 'CXX': 'g++', 'system': 'x86_64-linux', 'HOST_PATH': '/nix/store/i7qhgc0bs725qw3wdanznfkdna4z2ns2-coreutils-9.5/bin:/nix/store/rr1yixvn0z63mgq9s04ig9j9qlz23s2g-findutils-4.9.0/bin:/nix/store/j4gkc44c1pwl5ccgxm83s4r746bsdcw9-diffutils-3.10/bin:/nix/store/ks6c62g0m3gqrs5i7m0cv6d6aqhdvirn-gnused-4.9/bin:/nix/store/md9apn3290h7kv0x198ihaaa3k6icg4b-gnugrep-3.11/bin:/nix/store/hkx0wcm23i9ihqlysri8n41kl232kawb-gawk-5.2.2/bin:/nix/store/95ljdxg4drk1iq8jkjfq2c0z5vbwv8vm-gnutar-1.35/bin:/nix/store/nc9lq1lra01932rfyclq3gsh82cxbmii-gzip-1.13/bin:/nix/store/cyc3v8qfkhn4r38a8s5d7f2c33q624mz-bzip2-1.0.8-bin/bin:/nix/store/18z454gyz0wpb641rw6gpqk0vi4wbxy6-gnumake-4.4.1/bin:/nix/store/agkxax48k35wdmkhmmija2i2sxg8i7ny-bash-5.2p26/bin:/nix/store/r05c0lpbnjc8dg3rrr3ck7s07pjy86j3-patch-2.7.6/bin:/nix/store/qqhrymypl970jc6npvi9a6sikhr84mdf-xz-5.4.6-bin/bin:/nix/store/qcqmiq1mb3pkk2bxbj6d6gb2fk9knk8l-file-5.45/bin', 'IN_NIX_SHELL': 'impure', 'doInstallCheck': '', 'HOME': '/home/gurami', 'NIX_BINTOOLS': '/nix/store/l46fjkzva0bhvy9p2r7p4vi68kr7a1db-binutils-wrapper-2.41', 'SSH_ASKPASS': '/nix/store/xd7b5fspblr7cfk355826q3jyw6f3vcz-x11-ssh-askpass-1.2.4.1/libexec/x11-ssh-askpass', 'LANG': 'en_US.UTF-8', 'NIXOS_OZONE_WL': '1', 'XDG_CURRENT_DESKTOP': 'qtile:wlroots', 'depsTargetTargetPropagated': '', 'VSCODE_IPC_HOOK': '/run/user/1000/vscode-bf1d39ff-1.90-main.sock', 'WAYLAND_DISPLAY': 'wayland-0', 'cmakeFlags': '', 'outputs': 'out', 'GIO_EXTRA_MODULES': '/nix/store/46cgzg2dq0qk3x4w59anz7c54sschn7v-dconf-0.40.0-lib/lib/gio/modules:/nix/store/rshamqnczzl0b8ha8cbqy9i1m54045vb-gvfs-1.54.1/lib/gio/modules', 'NIX_STORE': '/nix/store', 'VSCODE_CLI': '1', 'LD': 'ld', 'buildPhase': '{ echo \"------------------------------------------------------------\";\\n  echo \" WARNING: the existence of this path is not guaranteed.\";\\n  echo \" It is an internal implementation detail for pkgs.mkShell.\";\\n  echo \"------------------------------------------------------------\";\\n  echo;\\n  # Record all build inputs as runtime dependencies\\n  export;\\n} >> \"/home/gurami/Documents/Python-Tests/outputs/out\"\\n', 'DIRENV_DIFF': 'eJzsWetv47ay_1cE3X44B40USdQzxfngON4k22ySzePstljAoEiKoihRFCnrVfR_v5CTdJPY7W27_XKBBIhlD_kbcobDeWh-MaV59It5vbg7M4_MQ8GGQ93WihxKdwTTGPsgGLNIJAEbczSKuJvidEzyBlq0ZKnl2bFje1bKxGHKxNEzfJi6WYP7FNAgLAIJpy6e-JA02Kk60LPJkmOb1wJYwHZdO3kNj6UnXNSNDhp4MfZDNmUp8iPRxdyFvlBPcNt1raZlJbEc2wtt5zWfpKJh5YWTloVfZiXtJQ0kzBgGQpeukBZt-ffzJjzf9j0Lk-41h26I8m5gfYRhRYvKY2LUFY-qErogjqLKIoOEreXZob0XT10EK6fT5UjhEGqnFI1snID6YIw1z10Lpxttubbr265jlSx9zWD0EpT2GevTRIzMx6kPJU8wHcsJF5XbvWDwGuwJhSWWjWaJD1XWgSFPJARj30gIYjW-OMZ9u8_irOuAcJI06fswVqLMcZZ1CSiQJyGyKGlbMrSz-l3bfQ13o2hyIuRR3nRYMNCrLoz5kNKBBgUKCgtBpup587Ht7Ftf9rJLJcsT4KVhFKHSc6TworHsqkBRIaxMEdKOklie7YL9MqARgS5uMp4LX4EYxjrAUeYhAJrQ86vJSicmPcu1HTveZ8oUAT7kBZPhlFdhHlA_zzFKyqYoA8761EpV3ZZslmLXACVmDhU-zymjcJh0lSac8j5gocS6G-L5xKWgFpw_XDu0fbBPhgSLMSwS1xviFHc4AI1fUjSFVTAI1HWJldWiRbXIGJ01EdjOPkmaPIolxE3JJwd4ZRTSIqZDxMpKYFzE2MoUSxlmW1244DVcxE1Fm1CmXVCkFUtdCinoRBPztGp05VgUc0uyId1klmf7nu3uPQ8cYKecQCPKZghl71UTz1AxgqzrO5qiaVYJJlkJW2K5trejUnfwOAqjPsd47NWUdGU6JR1mE2tEgt1gxheSUKvdqLS2gO3YYJ821BAy2JQUBJ6EfheGFEZp4PeI-llROnzm05NUWq7t7x5s0-RqrEZZJpFToFDIjiUw1IznKvYrnFnDZAW2b4d7TUorPSrUaFQ10dgEPh1RNGgFqqzvCpdbk26x5drBfrjGXTIFRR44Hu3HPKmSIBlhCD2JYs3Vc_hraDRo4aqoyZlHGyTyIfAnqXkxqcEvqgrOQrcsyyzfDvcbESjSEky0COMsC5Gg6ZRyHnujizgOgsDbYwWvWRS9N7gOd0qR9UHWMDcJvTSHUSNwmIU8s3KosnQzTVY8q36fEUWKI6TTDrNcNpr7rEEUhyFKp15NhUwsqqDMWUvmiw1s13_NIGv8QjUw9dPMY26TO7TLaYDDMOsnDZvMklDQ2TUF3v4I16dlRFWc-7xxw7DquG7KRPJeRIgCFkqrh2MJxXwOnrdflYMsJp0XuMgGloJ4ikdaaeXnQeNmnqyghTZSz0q0473OMXd70Htx2cWTiIdYVMwJO95XaQYyJ-iewXfCM-tkpMOmzxwPA80ozQqVAzhm3ugEYfcyLu6IHvEBd2OmFHa06qBmqE9pD8ahwmkUZFbPFCmJ1lZb16W2gGNLRXaCfEVdzwey5ymNaY4SyJgXF2HSOz1EfhJbtE4LglqLiVbVWhLUslpYvYJSklmvsWO7-xQDQuAjFqcdr1ztqhjGtEtUPKCwyrhXOs-zBzk-nZNj-7YbPfBSG3H4sI7SD5S8rsgh3ShYsUNbsMGSqs5YSb6u_YLwYnpZI1ge6ha2ZHcmadETQR9KoqyNJuoJ-hvzDqrnUH2ISQY3Zft1u2ijFBGtpUfdkupQ9_OQeWB-PjldnyzuFuuT85vbl0le7ioPQi5EmXRB5QDeDYyVDa4cHSsUFVanUY1nL5w4tneoc6jIi6hURmOH3MQN3KAq4kx3IxC0z5JKqamLc4tq0rZMUG1honlbS0ujnFRQW_6crG0ZHn6d9Dh4-Mewb7Dj313w-awX2R_EOh61mHo4MT_18inzyx6V2TAqv5_o0wb1k3J-10yeKe8V6U-ZyuPcPzSWZ0v8rrk8ztlvMNtB89cDU8xFweLGPDKhMg_MxWw3UJsH5nJpHpkUofnr1eW789P17dnq4uKlWUHKBzj4MQdBjyueVxUroMc8PdCYRWK0UqhzK7A96W3j0-H8e-b4-fPM_fvvzQPz5Pxmdfnf2WbNI9N6oaOTGm0qIlp9eL29xtYd0a3-inl3frGaN_R_Yw5tIjqFvkI_Le6WZ6tZWvJ-5Jy7V_20-HizWTMMedJ8tqKALrS3XH1agQ7dnL3X70425Ttysbl4v_hYrn5eBh9PpuQqlQTI4iKhp22F4x-Pr4d-uigury8iX5L3qOliH4-nfBOTJk1_bIPba-2h9FJ-_jjU4qcz2vvvw_v7n_R1fXn58ycvjS6Xkdup-go0n_MP3cL3V_26uLsW5x_g53EUnzN6_3HZ_OR-4unJWb3kt_e3OL5fvXdPl2BRtMf04zHHZFOtFnR9ZW3YsvtUl2mEfiw_rNEpYe7x_YcB59Lru5taLW7O7j_rH7m8He44v1GLs1qd809XFXKP-dLVEbA4kWn9E5NKt_FSj-As29z6oPDJ5jxr3t9fuufvbr1NOuBjgU5PnXa9BP6yaD8Oy0_u7brufItcLxaLxXptNe0VbMwD8-zq9m69W4myqMkpclIdeUHTgx5DMYmMYwH9yRPas1CtyKZlpbYSO9hJ8pQ7sqETzhSCijaJdnxGkyJpyskD2qNWxgR-QPt2spvmFT7lyPeRK_syQIgOVQy0ryI_TDVGfWJhlmUPeLCn_uI6RKFHnQrQRumARZWDuhCHsMlxx5SwqNhogue1d6IjTqAUwEucPOKdM7hJzHIIIeAhQ9RPZyhVRG4r6NfgnA9OjyoPsITlTTlqxWLhu7z0gMdhn1oU9ny-gvZOcE-CssAD9bHiLmvighdZ4yFnCrq07-KumtdtoZrTqh1ti7kscksFHTcBnspGVDaA6jz20JBWjFl0YnM-vVtbfGuR5saTP6fRk9PLNPRd1YdUNtzpmN-nwxjOu64gJ5Y_R_nX6L_qsV5YmBMgp5SpKFCMKVBKAcQj7USyGOOwAJaELcotz452s_FvKiIa1FSscasUSM69dEiLEIc09TKecMHj0po9_wwPHjOB88v15fnn3zw2q-RGEfPAvDgxj8wSmwfmPHx8fnl3dXXxKlUo_TAr-NRBJ827MZGeiqTfsTDmKoIuTucNPlyDx7RpzjvdVyzXn24W19erm_Xd4uZ0dbfe3vghDtehv94ILuperEsmNsOaio15ZP6Gvz-_OFkvr262rjl-pG5j0fMLIyvAHJ02KNFdhvIQupEbJZkOfTx5vLMoQr_tzgU2sJ3fOP3dnS3fXSxOb9fLqw_XD1HHsDIFBa4rSxOC_5OBXPeQZo40LPYQaI0XNQRwB-knwAmCLOkoa0I_ThtnHHjWu0X86i2ZRUR3yAQqN5j80_weBVpdvru6Wa7Wl1fry8Xd-X9Xz4Q9W9ycrC7PL0_Xq8vF8VbclAks6t7IalXBdn60LBufnsCQDBmKlKo2dAsRl6puCWprZehWMdTWHVFZWfePC1ycbNU5R3wlYZsbfyaG15tWbh6ehyVLDcO6-EaNzFz-CSaPUt3eXd2sXpjqPPDBPDJFZR6YV8fvl1fXP5lHZp0WqJbjA-3k_sP1Aw1vKmke7HlH-3e2tfN6qhG49zgturgEHAeMOSgGoGiqAUPRPDgvUmaWs32rtBOk_vqde81iQo7QnQck5CnMBC1G4PEuz6bUDaH2wZbFfqgTe4MDUCWFbngm_bJQuYZ4CmOVg8bNt283keXZILGCvUX8tyUXf88p7lTTfaaKhHcZc_0BlQjETdZXkQvzEMIe51-57EO_pUdv6dFbevTN6dHRnyoXMVP7nOhbr-ytV_bWK3vrlb31yt56ZW-9srde2Vuv7P9pr-xmcXlxfmwemQqKhwL-ZrU4WV28m0kEYlJm5oF5e_7zXM9rNs2V_O3V_c1ytT5Z3K3Wq-ur5VykAzcIgBc7zjx-d3N-uX2poVvFBNWPtOtHivzjHt3fKfJ3GnV_uczf4fDWKnxrFe62Cg_M9Vq3aoPajSJ40bZKm0emeWCmG1bicyE37XPCdQ41MY_MXwyC8tr4Ylrf8PfF_OGLMJ44GZ8WN5fnl6dHRpsTgwxMt0QgYtSZ0eZMG9vXiUwbom4NuoEKipYQbL9ict7Oc6AwmGiJErA0WCVLMpeCcPanBiYtZKWR1cqQnGq74rc5KctXfP4hsbZf_se4IahW2IBlaWy1aLCtXg2oDbURLauIgYkkAhOBGNFb9CBr1f7wRfxqfNk4DiAPn8YX87t6034xv4inIyHqn-ndogpy8q6E9PG8H_LrjXpOw0Tq43nR7cc-2rWqJaSwJa9H76CipN1L3Ic5q3U7_-9S9s1-4PN6iefUHVS9zAniTz_OhW5hWb6giXaB8QnTMC3JCZF3Cm7HXPPArIiuxTO9CFjNt2J2AXq2ptmHb8kt68jxi5v0bYHBPDDrTfsne-PP3qs_4B638PD7IWA8CiDnez1_f3bLD0ypSEbUxeylng7c3ZKfdHn82kl8HbrcI7t5YG7V888Y7JbVWV3Ph9IR0f3ni_ndvxA2vvsXZmo-EeO7f_U5Q7nxoMd___sHA2HDtn8wZI__Pd-hUhjWnc7mWzVz-GIa9vY5Xy7d4lnhL7aKAZ6y0YdVUcZemKVx4TiNdHESx1Ee5ZX1ALK2jaYtD8VQe0Lkk_Rb72semQ-Nqcd5v_76vwEAAP__v0ON9A==', 'READELF': 'readelf', 'GTK_A11Y': 'none', 'CHROME_DESKTOP': 'code-url-handler.desktop', 'NIX_USER_PROFILE_DIR': '/nix/var/nix/profiles/per-user/gurami', 'INFOPATH': '/home/gurami/.nix-profile/info:/home/gurami/.nix-profile/share/info:/nix/profile/info:/nix/profile/share/info:/home/gurami/.local/state/nix/profile/info:/home/gurami/.local/state/nix/profile/share/info:/etc/profiles/per-user/gurami/info:/etc/profiles/per-user/gurami/share/info:/nix/var/nix/profiles/default/info:/nix/var/nix/profiles/default/share/info:/run/current-system/sw/info:/run/current-system/sw/share/info', 'doCheck': '', 'depsBuildBuild': '', 'TERM': 'xterm-color', 'GTK_PATH': '/home/gurami/.nix-profile/lib/gtk-2.0:/home/gurami/.nix-profile/lib/gtk-3.0:/home/gurami/.nix-profile/lib/gtk-4.0:/nix/profile/lib/gtk-2.0:/nix/profile/lib/gtk-3.0:/nix/profile/lib/gtk-4.0:/home/gurami/.local/state/nix/profile/lib/gtk-2.0:/home/gurami/.local/state/nix/profile/lib/gtk-3.0:/home/gurami/.local/state/nix/profile/lib/gtk-4.0:/etc/profiles/per-user/gurami/lib/gtk-2.0:/etc/profiles/per-user/gurami/lib/gtk-3.0:/etc/profiles/per-user/gurami/lib/gtk-4.0:/nix/var/nix/profiles/default/lib/gtk-2.0:/nix/var/nix/profiles/default/lib/gtk-3.0:/nix/var/nix/profiles/default/lib/gtk-4.0:/run/current-system/sw/lib/gtk-2.0:/run/current-system/sw/lib/gtk-3.0:/run/current-system/sw/lib/gtk-4.0', 'SIZE': 'size', 'propagatedNativeBuildInputs': '', 'LESSOPEN': '|/nix/store/js7k4lhbjmab8m3i3axpv1ksap1vr5ic-lesspipe-2.11/bin/lesspipe.sh %s', 'strictDeps': '', 'USER': 'gurami', 'PYTHONIOENCODING': 'utf-8', 'TZDIR': '/etc/zoneinfo', 'NIX_LD': '/run/current-system/sw/share/nix-ld/lib/ld.so', 'AR': 'ar', 'AS': 'as', 'NIX_BINTOOLS_WRAPPER_TARGET_HOST_x86_64_unknown_linux_gnu': '1', 'DISPLAY': ':0', 'VSCODE_PID': '9356', 'SHLVL': '1', 'NM': 'nm', 'PAGER': 'cat', 'NIX_CFLAGS_COMPILE': ' -frandom-seed=f3hswagf0p -isystem /nix/store/wb31xp493055f9vgiq648bq0yxkfw1j8-python3-3.11.9-env/include -isystem /nix/store/wb31xp493055f9vgiq648bq0yxkfw1j8-python3-3.11.9-env/include', 'QTWEBKIT_PLUGIN_PATH': '/home/gurami/.nix-profile/lib/mozilla/plugins/:/nix/profile/lib/mozilla/plugins/:/home/gurami/.local/state/nix/profile/lib/mozilla/plugins/:/etc/profiles/per-user/gurami/lib/mozilla/plugins/:/nix/var/nix/profiles/default/lib/mozilla/plugins/:/run/current-system/sw/lib/mozilla/plugins/', 'patches': '', 'JUPYTER_PATH': '/home/gurami/.vscode/extensions/ms-toolsai.jupyter-2024.5.0-linux-x64/temp/jupyter', '__NIXOS_SET_ENVIRONMENT_DONE': '1', 'VSCODE_CWD': '/home/gurami', 'XDG_VTNR': '1', 'buildInputs': '', 'XDG_SESSION_ID': '3', 'preferLocalBuild': '1', 'LOCALE_ARCHIVE': '/run/current-system/sw/lib/locale/locale-archive', 'LESSKEYIN_SYSTEM': '/nix/store/x2glzanwqsiwhf9crm5aa0l4xf8ah27y-lessconfig', 'TERMINFO_DIRS': '/home/gurami/.nix-profile/share/terminfo:/nix/profile/share/terminfo:/home/gurami/.local/state/nix/profile/share/terminfo:/etc/profiles/per-user/gurami/share/terminfo:/nix/var/nix/profiles/default/share/terminfo:/run/current-system/sw/share/terminfo', 'LD_LIBRARY_PATH': '/nix/store/gq34h8sdjc6g7sdxy86fz4anf04qciiy-pipewire-1.0.7-jack/lib', 'VSCODE_CRASH_REPORTER_PROCESS_TYPE': 'extensionHost', 'XDG_RUNTIME_DIR': '/run/user/1000', 'depsBuildTarget': '', 'OBJCOPY': 'objcopy', 'NIX_XDG_DESKTOP_PORTAL_DIR': '/run/current-system/sw/share/xdg-desktop-portal/portals', 'out': '/home/gurami/Documents/Python-Tests/outputs/out', 'ELECTRON_NO_ATTACH_CONSOLE': '1', 'STRIP': 'strip', 'XDG_DATA_DIRS': '/nix/store/wb31xp493055f9vgiq648bq0yxkfw1j8-python3-3.11.9-env/share:/nix/store/pdqndw2kgjv8l3kd5ii0c833jqmxdanq-patchelf-0.15.0/share:/nix/store/h1r2aaknnl9v5m03kvxiilqdm0s8rc7j-vscode-1.90.2/share:/nix/store/9l7yvc191515mj8fsvy3ngwf9mrrzv8h-gsettings-desktop-schemas-46.0/share/gsettings-schemas/gsettings-desktop-schemas-46.0:/nix/store/6ivp7s6qwf02d3siggfjrh3ayf2y056v-gtk+3-3.24.42/share/gsettings-schemas/gtk+3-3.24.42:/nix/store/vads8ysnzwazi4b2hzf4lwclfxyr4wzg-desktops/share:/home/gurami/.nix-profile/share:/nix/profile/share:/home/gurami/.local/state/nix/profile/share:/etc/profiles/per-user/gurami/share:/nix/var/nix/profiles/default/share:/run/current-system/sw/share', 'GDK_BACKEND': 'wayland', 'LIBEXEC_PATH': '/home/gurami/.nix-profile/libexec:/nix/profile/libexec:/home/gurami/.local/state/nix/profile/libexec:/etc/profiles/per-user/gurami/libexec:/nix/var/nix/profiles/default/libexec:/run/current-system/sw/libexec', 'OBJDUMP': 'objdump', 'PATH': '/home/gurami/Documents/Python-Tests/.venv/bin:/home/gurami/.local/bin:/nix/store/wb31xp493055f9vgiq648bq0yxkfw1j8-python3-3.11.9-env/bin:/nix/store/pdqndw2kgjv8l3kd5ii0c833jqmxdanq-patchelf-0.15.0/bin:/nix/store/mpm3i0sbqc9svfch6a17179fs64dz2kv-gcc-wrapper-13.3.0/bin:/nix/store/zc0nsv23pakbafngjy32kvhfzb16as43-gcc-13.3.0/bin:/nix/store/082x03cmpnsqkfp4ljrhsadz68rh3q1h-glibc-2.39-52-bin/bin:/nix/store/i7qhgc0bs725qw3wdanznfkdna4z2ns2-coreutils-9.5/bin:/nix/store/l46fjkzva0bhvy9p2r7p4vi68kr7a1db-binutils-wrapper-2.41/bin:/nix/store/wwfrj9kvfi14xclc38qfwm71ah6aawdh-binutils-2.41/bin:/nix/store/i7qhgc0bs725qw3wdanznfkdna4z2ns2-coreutils-9.5/bin:/nix/store/rr1yixvn0z63mgq9s04ig9j9qlz23s2g-findutils-4.9.0/bin:/nix/store/j4gkc44c1pwl5ccgxm83s4r746bsdcw9-diffutils-3.10/bin:/nix/store/ks6c62g0m3gqrs5i7m0cv6d6aqhdvirn-gnused-4.9/bin:/nix/store/md9apn3290h7kv0x198ihaaa3k6icg4b-gnugrep-3.11/bin:/nix/store/hkx0wcm23i9ihqlysri8n41kl232kawb-gawk-5.2.2/bin:/nix/store/95ljdxg4drk1iq8jkjfq2c0z5vbwv8vm-gnutar-1.35/bin:/nix/store/nc9lq1lra01932rfyclq3gsh82cxbmii-gzip-1.13/bin:/nix/store/cyc3v8qfkhn4r38a8s5d7f2c33q624mz-bzip2-1.0.8-bin/bin:/nix/store/18z454gyz0wpb641rw6gpqk0vi4wbxy6-gnumake-4.4.1/bin:/nix/store/agkxax48k35wdmkhmmija2i2sxg8i7ny-bash-5.2p26/bin:/nix/store/r05c0lpbnjc8dg3rrr3ck7s07pjy86j3-patch-2.7.6/bin:/nix/store/qqhrymypl970jc6npvi9a6sikhr84mdf-xz-5.4.6-bin/bin:/nix/store/qcqmiq1mb3pkk2bxbj6d6gb2fk9knk8l-file-5.45/bin:/home/gurami/Documents/Python-Tests/.direnv/bin:/nix/store/p1y3zy8435yf7n95iyhcyn8vz8by9hqa-glib-2.80.2-bin/bin:/nix/store/6b1fqdwb3g56j5pazv8zkx9qd0mv3wiz-python3-3.11.9/bin:/nix/store/8p2n1cvy0cxkjywxfzfbc47nv8k1a4nr-python3.11-qtile-0.26.0/bin:/nix/store/9mg6m26zspj4lflgwpg5pafid3nsl1np-gtk+3-3.24.42-dev/bin:/nix/store/vx7hvxiw7damgjm2inysmk7mla13877m-expat-2.6.2-dev/bin:/nix/store/g1cam0vslygax6s0lnqpq05g43y8skh1-dbus-1.14.10-lib/bin:/nix/store/y29cbwfiwb9nyi4db4apk9dgylzdjm1v-dbus-1.14.10/bin:/nix/store/2nrdpdpqsi94arfv3xh9pa3ywqpa38ry-glib-2.80.2-dev/bin:/nix/store/gf8fvv3n09b9ww68rnlhdffv93jc2pac-gettext-0.21.1/bin:/nix/store/177z07c2gkqvdni3wrv68kxbgxg5jc5j-cairo-1.18.0-dev/bin:/nix/store/pwpvbpih932b677cl20pn27ylvm5rgnn-freetype-2.13.2-dev/bin:/nix/store/cyc3v8qfkhn4r38a8s5d7f2c33q624mz-bzip2-1.0.8-bin/bin:/nix/store/gc3kxhjip6zhm6h5g4hhdc9lqjl5kiwb-brotli-1.1.0/bin:/nix/store/pdi0gn4khgigaxzsmb9kgkw5i6pdsvx8-libpng-apng-1.6.43-dev/bin:/nix/store/9dny6j912x8bdvd53q4lgcz6m5xncvv9-fontconfig-2.15.0-bin/bin:/nix/store/qh78padqlkz032l76gj8gx7ilmnddj8d-fribidi-1.0.13/bin:/nix/store/n8qmgq6pbv5jbmib1gag3vnq8kbmqsm0-gdk-pixbuf-2.42.12-dev/bin:/nix/store/d5d0lz3qnlqx6pw2mzkfcjy3fvwvgbcz-libdeflate-1.20/bin:/nix/store/1x2kc67whddywrz9vlbz9vdiziqn9d15-libjpeg-turbo-3.0.3-bin/bin:/nix/store/rx6iaqlg352pa4v66ga7b54wcg4fjl0k-libwebp-1.4.0/bin:/nix/store/qqhrymypl970jc6npvi9a6sikhr84mdf-xz-5.4.6-bin/bin:/nix/store/gsrsyrcqscmq7yq54gyc7xsr3mfwvj1k-zstd-1.5.6-bin/bin:/nix/store/sdv9z5jh502gwyh9m959ya6a2pc8skrk-zstd-1.5.6/bin:/nix/store/7xsn1r7qhi2gqcnhx54zpskjzrx4jmma-libtiff-4.6.0-bin/bin:/nix/store/3jbl3zgj68ff6cngbzbkk82y1ckd5552-gdk-pixbuf-2.42.12/bin:/nix/store/jw2x10k0lnfw5fqi1962bha7qnd6f6kf-harfbuzz-8.4.0-dev/bin:/nix/store/7rkccsbvdihpqsk4iqcgd66cbzwrzjp9-graphite2-1.3.14/bin:/nix/store/fq4jrqab4bf2i1qh0gvhg5d66fwzsaqf-pango-1.52.2-bin/bin:/nix/store/wbl7gr8h4kq166mvksql9pkwn7cg3i6p-wayland-1.22.0-bin/bin:/nix/store/xpjzshjdjfxib38z8ygmsr4h5q1f2pma-cups-2.4.8-dev/bin:/nix/store/ph1w3w28lv8zn8x8nmi06vkwmbf3f05v-cups-2.4.8/bin:/nix/store/6ivp7s6qwf02d3siggfjrh3ayf2y056v-gtk+3-3.24.42/bin:/nix/store/w7kxdvyfrrd0srvasicwbgw3yxmdb75f-wireless-tools-30.pre9/bin:/nix/store/mg1243pwkbg8ghc9aii28j69w0wac498-gobject-introspection-wrapped-1.80.1-dev/bin:/nix/store/3634ci8bvkm1s1r8a8gv9r8xc6mfk2l0-python3.11-pywayland-0.4.17/bin:/run/wrappers/bin:/home/gurami/.nix-profile/bin:/nix/profile/bin:/home/gurami/.local/state/nix/profile/bin:/etc/profiles/per-user/gurami/bin:/nix/var/nix/profiles/default/bin:/run/current-system/sw/bin:/nix/store/wb31xp493055f9vgiq648bq0yxkfw1j8-python3-3.11.9-env/bin:/nix/store/pdqndw2kgjv8l3kd5ii0c833jqmxdanq-patchelf-0.15.0/bin:/nix/store/mpm3i0sbqc9svfch6a17179fs64dz2kv-gcc-wrapper-13.3.0/bin:/nix/store/zc0nsv23pakbafngjy32kvhfzb16as43-gcc-13.3.0/bin:/nix/store/082x03cmpnsqkfp4ljrhsadz68rh3q1h-glibc-2.39-52-bin/bin:/nix/store/i7qhgc0bs725qw3wdanznfkdna4z2ns2-coreutils-9.5/bin:/nix/store/l46fjkzva0bhvy9p2r7p4vi68kr7a1db-binutils-wrapper-2.41/bin:/nix/store/wwfrj9kvfi14xclc38qfwm71ah6aawdh-binutils-2.41/bin:/nix/store/i7qhgc0bs725qw3wdanznfkdna4z2ns2-coreutils-9.5/bin:/nix/store/rr1yixvn0z63mgq9s04ig9j9qlz23s2g-findutils-4.9.0/bin:/nix/store/j4gkc44c1pwl5ccgxm83s4r746bsdcw9-diffutils-3.10/bin:/nix/store/ks6c62g0m3gqrs5i7m0cv6d6aqhdvirn-gnused-4.9/bin:/nix/store/md9apn3290h7kv0x198ihaaa3k6icg4b-gnugrep-3.11/bin:/nix/store/hkx0wcm23i9ihqlysri8n41kl232kawb-gawk-5.2.2/bin:/nix/store/95ljdxg4drk1iq8jkjfq2c0z5vbwv8vm-gnutar-1.35/bin:/nix/store/nc9lq1lra01932rfyclq3gsh82cxbmii-gzip-1.13/bin:/nix/store/cyc3v8qfkhn4r38a8s5d7f2c33q624mz-bzip2-1.0.8-bin/bin:/nix/store/18z454gyz0wpb641rw6gpqk0vi4wbxy6-gnumake-4.4.1/bin:/nix/store/agkxax48k35wdmkhmmija2i2sxg8i7ny-bash-5.2p26/bin:/nix/store/r05c0lpbnjc8dg3rrr3ck7s07pjy86j3-patch-2.7.6/bin:/nix/store/qqhrymypl970jc6npvi9a6sikhr84mdf-xz-5.4.6-bin/bin:/nix/store/qcqmiq1mb3pkk2bxbj6d6gb2fk9knk8l-file-5.45/bin:/home/gurami/Documents/Python-Tests/.direnv/bin:/nix/store/p1y3zy8435yf7n95iyhcyn8vz8by9hqa-glib-2.80.2-bin/bin:/nix/store/6b1fqdwb3g56j5pazv8zkx9qd0mv3wiz-python3-3.11.9/bin:/nix/store/8p2n1cvy0cxkjywxfzfbc47nv8k1a4nr-python3.11-qtile-0.26.0/bin:/nix/store/9mg6m26zspj4lflgwpg5pafid3nsl1np-gtk+3-3.24.42-dev/bin:/nix/store/vx7hvxiw7damgjm2inysmk7mla13877m-expat-2.6.2-dev/bin:/nix/store/g1cam0vslygax6s0lnqpq05g43y8skh1-dbus-1.14.10-lib/bin:/nix/store/y29cbwfiwb9nyi4db4apk9dgylzdjm1v-dbus-1.14.10/bin:/nix/store/2nrdpdpqsi94arfv3xh9pa3ywqpa38ry-glib-2.80.2-dev/bin:/nix/store/gf8fvv3n09b9ww68rnlhdffv93jc2pac-gettext-0.21.1/bin:/nix/store/177z07c2gkqvdni3wrv68kxbgxg5jc5j-cairo-1.18.0-dev/bin:/nix/store/pwpvbpih932b677cl20pn27ylvm5rgnn-freetype-2.13.2-dev/bin:/nix/store/cyc3v8qfkhn4r38a8s5d7f2c33q624mz-bzip2-1.0.8-bin/bin:/nix/store/gc3kxhjip6zhm6h5g4hhdc9lqjl5kiwb-brotli-1.1.0/bin:/nix/store/pdi0gn4khgigaxzsmb9kgkw5i6pdsvx8-libpng-apng-1.6.43-dev/bin:/nix/store/9dny6j912x8bdvd53q4lgcz6m5xncvv9-fontconfig-2.15.0-bin/bin:/nix/store/qh78padqlkz032l76gj8gx7ilmnddj8d-fribidi-1.0.13/bin:/nix/store/n8qmgq6pbv5jbmib1gag3vnq8kbmqsm0-gdk-pixbuf-2.42.12-dev/bin:/nix/store/d5d0lz3qnlqx6pw2mzkfcjy3fvwvgbcz-libdeflate-1.20/bin:/nix/store/1x2kc67whddywrz9vlbz9vdiziqn9d15-libjpeg-turbo-3.0.3-bin/bin:/nix/store/rx6iaqlg352pa4v66ga7b54wcg4fjl0k-libwebp-1.4.0/bin:/nix/store/qqhrymypl970jc6npvi9a6sikhr84mdf-xz-5.4.6-bin/bin:/nix/store/gsrsyrcqscmq7yq54gyc7xsr3mfwvj1k-zstd-1.5.6-bin/bin:/nix/store/sdv9z5jh502gwyh9m959ya6a2pc8skrk-zstd-1.5.6/bin:/nix/store/7xsn1r7qhi2gqcnhx54zpskjzrx4jmma-libtiff-4.6.0-bin/bin:/nix/store/3jbl3zgj68ff6cngbzbkk82y1ckd5552-gdk-pixbuf-2.42.12/bin:/nix/store/jw2x10k0lnfw5fqi1962bha7qnd6f6kf-harfbuzz-8.4.0-dev/bin:/nix/store/7rkccsbvdihpqsk4iqcgd66cbzwrzjp9-graphite2-1.3.14/bin:/nix/store/fq4jrqab4bf2i1qh0gvhg5d66fwzsaqf-pango-1.52.2-bin/bin:/nix/store/wbl7gr8h4kq166mvksql9pkwn7cg3i6p-wayland-1.22.0-bin/bin:/nix/store/xpjzshjdjfxib38z8ygmsr4h5q1f2pma-cups-2.4.8-dev/bin:/nix/store/ph1w3w28lv8zn8x8nmi06vkwmbf3f05v-cups-2.4.8/bin:/nix/store/6ivp7s6qwf02d3siggfjrh3ayf2y056v-gtk+3-3.24.42/bin:/nix/store/w7kxdvyfrrd0srvasicwbgw3yxmdb75f-wireless-tools-30.pre9/bin:/nix/store/mg1243pwkbg8ghc9aii28j69w0wac498-gobject-introspection-wrapped-1.80.1-dev/bin:/nix/store/3634ci8bvkm1s1r8a8gv9r8xc6mfk2l0-python3.11-pywayland-0.4.17/bin:/run/wrappers/bin:/home/gurami/.nix-profile/bin:/nix/profile/bin:/home/gurami/.local/state/nix/profile/bin:/etc/profiles/per-user/gurami/bin:/nix/var/nix/profiles/default/bin:/run/current-system/sw/bin', 'propagatedBuildInputs': '', 'dontAddDisableDepTrack': '1', 'CC': 'gcc', 'NIX_CC': '/nix/store/mpm3i0sbqc9svfch6a17179fs64dz2kv-gcc-wrapper-13.3.0', 'ORIGINAL_XDG_CURRENT_DESKTOP': 'qtile:wlroots', 'DBUS_SESSION_BUS_ADDRESS': 'unix:path=/run/user/1000/bus', 'depsBuildTargetPropagated': '', 'depsBuildBuildPropagated': '', 'DIRENV_WATCHES': 'eJykkk1OwzAQRu_idak9qX-75gAs2CEWE3vcRHJsFDulFeLuLJAQlEZC5QDz9Obpe3pjL9gGtmd8KBPxwzLjNPL74peJcqv84dyGku8eqbbKt5SPs2cbNpXQxonYHgw4J6UUYsPoNNZW2b7NC71vroO3qXhMvA44Ew_jTPnIMaXyynXfgUQCqY1WkbDHoCkSUSd8UEJ1GC3AjtBgQBkdeumEAg_O-uiCvWolb7cKlM_cGei1BUMxdhp2wvRorARHUXsKkpSxTkkRrAHorIkWOmc1BkC1s73-kepboYiprst8Csy3HfuS43j4euIfqJUN1IFS2ubxdBncGG0t_C34CjtQxCW1S_ov4-ePAAAA__-qtOaq', 'VSCODE_NLS_CONFIG': '{\"locale\":\"en-us\",\"osLocale\":\"en-us\",\"availableLanguages\":{},\"_languagePackSupport\":true}', 'NIX_CC_WRAPPER_TARGET_HOST_x86_64_unknown_linux_gnu': '1', 'CONFIG_SHELL': '/nix/store/agkxax48k35wdmkhmmija2i2sxg8i7ny-bash-5.2p26/bin/bash', '__structuredAttrs': '', 'RANLIB': 'ranlib', 'NIX_HARDENING_ENABLE': 'bindnow format fortify fortify3 pic relro stackprotector strictoverflow', 'VSCODE_HANDLES_UNCAUGHT_ERRORS': 'true', 'NIX_LDFLAGS': '-rpath /home/gurami/Documents/Python-Tests/outputs/out/lib  -L/nix/store/wb31xp493055f9vgiq648bq0yxkfw1j8-python3-3.11.9-env/lib -L/nix/store/wb31xp493055f9vgiq648bq0yxkfw1j8-python3-3.11.9-env/lib', 'nativeBuildInputs': '/nix/store/wb31xp493055f9vgiq648bq0yxkfw1j8-python3-3.11.9-env', 'name': 'nix-shell-env', 'depsHostHostPropagated': '', 'JPY_SESSION_NAME': '/home/gurami/Documents/Python-Tests/150 Basics Test-146ca932-bf9d-4215-a834-15fb98e6f27a.ipynb', '_': '/nix/store/h1r2aaknnl9v5m03kvxiilqdm0s8rc7j-vscode-1.90.2/lib/vscode/code', 'shell': '/nix/store/agkxax48k35wdmkhmmija2i2sxg8i7ny-bash-5.2p26/bin/bash', 'PYDEVD_IPYTHON_COMPATIBLE_DEBUGGING': '1', 'JPY_PARENT_PID': '9775', 'PYDEVD_USE_FRAME_EVAL': 'NO', 'CLICOLOR': '1', 'FORCE_COLOR': '1', 'CLICOLOR_FORCE': '1', 'GIT_PAGER': 'cat', 'MPLBACKEND': 'module://matplotlib_inline.backend_inline'})\n",
      "/home/gurami\n"
     ]
    }
   ],
   "source": [
    "import os\n",
    "print(os.environ)\n",
    "print(os.environ[\"HOME\"])"
   ]
  },
  {
   "cell_type": "markdown",
   "metadata": {},
   "source": [
    "45) Write a Python program to get the current username."
   ]
  },
  {
   "cell_type": "code",
   "execution_count": 3,
   "metadata": {},
   "outputs": [
    {
     "name": "stdout",
     "output_type": "stream",
     "text": [
      "gurami\n"
     ]
    }
   ],
   "source": [
    "import getpass\n",
    "print(getpass.getuser())"
   ]
  },
  {
   "cell_type": "markdown",
   "metadata": {},
   "source": [
    "46) Write a Python program to find local IP addresses using Python's stdlib."
   ]
  },
  {
   "cell_type": "code",
   "execution_count": 6,
   "metadata": {},
   "outputs": [
    {
     "data": {
      "text/plain": [
       "'127.0.0.1'"
      ]
     },
     "execution_count": 6,
     "metadata": {},
     "output_type": "execute_result"
    }
   ],
   "source": [
    "import socket\n",
    "socket.gethostbyname(socket.getfqdn())"
   ]
  },
  {
   "cell_type": "markdown",
   "metadata": {},
   "source": [
    "47) Write a Python program to get the height and width of the console window."
   ]
  },
  {
   "cell_type": "code",
   "execution_count": 9,
   "metadata": {},
   "outputs": [
    {
     "name": "stdout",
     "output_type": "stream",
     "text": [
      "os.terminal_size(columns=80, lines=24)\n"
     ]
    }
   ],
   "source": [
    "import shutil\n",
    "print(shutil.get_terminal_size())"
   ]
  },
  {
   "cell_type": "markdown",
   "metadata": {},
   "source": [
    "48) Write a Python program to get the execution time of a Python method."
   ]
  },
  {
   "cell_type": "code",
   "execution_count": null,
   "metadata": {},
   "outputs": [],
   "source": [
    "import time\n",
    "start_time = time.time()\n",
    "main()\n",
    "print(time.time() - start_time)"
   ]
  },
  {
   "cell_type": "markdown",
   "metadata": {},
   "source": [
    "49) Write a Python program to sum the first n positive integers."
   ]
  },
  {
   "cell_type": "code",
   "execution_count": 2,
   "metadata": {},
   "outputs": [
    {
     "name": "stdout",
     "output_type": "stream",
     "text": [
      "15.0\n"
     ]
    }
   ],
   "source": [
    "num = int(input(\"Num: \"))\n",
    "x = (num*(num+1))/2\n",
    "print(x)"
   ]
  },
  {
   "cell_type": "markdown",
   "metadata": {},
   "source": [
    "50) Write a Python program to convert height (in feet and inches) to centimeters."
   ]
  },
  {
   "cell_type": "code",
   "execution_count": 7,
   "metadata": {},
   "outputs": [
    {
     "name": "stdout",
     "output_type": "stream",
     "text": [
      "68.58 cm\n"
     ]
    }
   ],
   "source": [
    "height = float(input(\"Height: \"))\n",
    "type_height = input(\"feet/inch: \")\n",
    "if type_height == \"feet\":\n",
    "    print(height*30.48,\"cm\")\n",
    "elif type_height == \"inch\":\n",
    "    print(height*2.54,\"cm\")"
   ]
  },
  {
   "cell_type": "markdown",
   "metadata": {},
   "source": [
    "51) Write a Python program to calculate the hypotenuse of a right angled triangle."
   ]
  },
  {
   "cell_type": "code",
   "execution_count": 8,
   "metadata": {},
   "outputs": [
    {
     "name": "stdout",
     "output_type": "stream",
     "text": [
      "11.180339887498949\n"
     ]
    }
   ],
   "source": [
    "import math\n",
    "a = float(input(\"a: \"))\n",
    "b = float(input(\"b: \"))\n",
    "print(math.sqrt(a**2+b**2))"
   ]
  },
  {
   "cell_type": "markdown",
   "metadata": {},
   "source": [
    "52) Write a Python program to convert the distance (in feet) to inches, yards, and miles."
   ]
  },
  {
   "cell_type": "code",
   "execution_count": 10,
   "metadata": {},
   "outputs": [
    {
     "name": "stdout",
     "output_type": "stream",
     "text": [
      "307237.2\n"
     ]
    }
   ],
   "source": [
    "distance = float(input(\"distance in feet: \"))\n",
    "type_distance = input(\"inch/yard/mile: \")\n",
    "if type_distance == \"inch\":\n",
    "    print(distance*12)\n",
    "elif type_distance == \"yard\":\n",
    "    print(distance*0.3)\n",
    "elif type_distance == \"mile\":\n",
    "    print(distance*0.0001893939)"
   ]
  },
  {
   "cell_type": "markdown",
   "metadata": {},
   "source": [
    "53) Write a Python program to convert all units of time into seconds."
   ]
  },
  {
   "cell_type": "code",
   "execution_count": 13,
   "metadata": {},
   "outputs": [
    {
     "name": "stdout",
     "output_type": "stream",
     "text": [
      "days: 10627200sec\n",
      "hours: 442800sec\n",
      "minutes: 7380sec\n",
      "seconds: 123sec\n"
     ]
    }
   ],
   "source": [
    "days = int(input(\"days: \")) * 24 * 3600\n",
    "hours = int(input(\"hours: \")) * 3600\n",
    "minutes = int(input(\"minutes: \")) * 60\n",
    "seconds = int(input(\"seconds\"))\n",
    "print(f\"days: {days}sec\\nhours: {hours}sec\\nminutes: {minutes}sec\\nseconds: {seconds}sec\")"
   ]
  },
  {
   "cell_type": "markdown",
   "metadata": {},
   "source": [
    "54) Write a Python program to get an absolute file path."
   ]
  },
  {
   "cell_type": "code",
   "execution_count": 14,
   "metadata": {},
   "outputs": [
    {
     "name": "stdout",
     "output_type": "stream",
     "text": [
      "/home/gurami/Documents/Python-Tests/shell.nix\n"
     ]
    }
   ],
   "source": [
    "import os\n",
    "print(os.path.abspath('./shell.nix'))"
   ]
  },
  {
   "cell_type": "markdown",
   "metadata": {},
   "source": [
    "55) Write a Python program that retrieves the date and time of file creation and modification."
   ]
  },
  {
   "cell_type": "code",
   "execution_count": 16,
   "metadata": {},
   "outputs": [
    {
     "name": "stdout",
     "output_type": "stream",
     "text": [
      "last modified: Sun Jun 30 23:48:01 2024\n",
      "created: Tue Jul  2 22:19:52 2024\n"
     ]
    }
   ],
   "source": [
    "# ეს ცოტა გაუგებარია\n",
    "import os.path, time\n",
    "print(\"last modified: %s\" % time.ctime(os.path.getmtime('./shell.nix')))\n",
    "print(\"created: %s\" % time.ctime(os.path.getctime('./shell.nix')))"
   ]
  },
  {
   "cell_type": "markdown",
   "metadata": {},
   "source": [
    "56) Write a Python program that converts seconds into days, hours, minutes, and seconds."
   ]
  },
  {
   "cell_type": "code",
   "execution_count": 1,
   "metadata": {},
   "outputs": [
    {
     "name": "stdout",
     "output_type": "stream",
     "text": [
      "0.041666666666666664 1.0 60.0 3600\n"
     ]
    }
   ],
   "source": [
    "sec = int(input(\"seconds: \"))\n",
    "minutes = sec / 60\n",
    "hours = sec / 3600\n",
    "days = sec / 24 / 3600\n",
    "print(days, hours, minutes, sec)"
   ]
  },
  {
   "cell_type": "markdown",
   "metadata": {},
   "source": [
    "57) Write a Python program to calculate the body mass index."
   ]
  },
  {
   "cell_type": "code",
   "execution_count": 4,
   "metadata": {},
   "outputs": [
    {
     "name": "stdout",
     "output_type": "stream",
     "text": [
      "24.489795918367346\n"
     ]
    }
   ],
   "source": [
    "height = float(input(\"Height in metres: \"))\n",
    "weight = int(input(\"Weight in kg: \"))\n",
    "print(weight/(height**2))"
   ]
  },
  {
   "cell_type": "markdown",
   "metadata": {},
   "source": [
    "58)  Write a Python program to convert pressure in kilopascals to pounds per square inch, a millimeter of mercury (mmHg) and atmosphere pressure."
   ]
  },
  {
   "cell_type": "code",
   "execution_count": 18,
   "metadata": {},
   "outputs": [
    {
     "name": "stdout",
     "output_type": "stream",
     "text": [
      "10.0 - kilopascal\n",
      "1.45038 - pounds per square inch\n",
      "75.006 - millimeter of mercury\n",
      "0.0986923 - atmosphere pressure\n"
     ]
    }
   ],
   "source": [
    "kpa = float(input(\"kilopascal: \"))\n",
    "psi = kpa*0.145038\n",
    "mmHg = kpa*7.5006\n",
    "atm = kpa*0.00986923\n",
    "print(f'{kpa} - kilopascal\\n{psi} - pounds per square inch\\n{mmHg} - millimeter of mercury\\n{atm} - atmosphere pressure')"
   ]
  },
  {
   "cell_type": "markdown",
   "metadata": {},
   "source": [
    "59) Write a Python program to calculate sum of digits of a number."
   ]
  },
  {
   "cell_type": "code",
   "execution_count": 6,
   "metadata": {},
   "outputs": [
    {
     "name": "stdout",
     "output_type": "stream",
     "text": [
      "13\n"
     ]
    }
   ],
   "source": [
    "num = str(input(\"Num: \"))\n",
    "num_digit = set([])\n",
    "for i in num:\n",
    "    num_digit.add(int(i))\n",
    "print(sum(num_digit))"
   ]
  },
  {
   "cell_type": "markdown",
   "metadata": {},
   "source": [
    "60) Write a Python program to sort three integers without using conditional statements and loops."
   ]
  },
  {
   "cell_type": "code",
   "execution_count": null,
   "metadata": {},
   "outputs": [],
   "source": [
    "x = int(input(\"Input first number: \"))\n",
    "y = int(input(\"Input second number: \"))\n",
    "z = int(input(\"Input third number: \"))\n",
    "a1 = min(x, y, z)\n",
    "a3 = max(x, y, z)\n",
    "a2 = (x + y + z) - a1 - a3\n",
    "print(\"Numbers in sorted order: \", a1, a2, a3)"
   ]
  },
  {
   "cell_type": "markdown",
   "metadata": {},
   "source": [
    "61) Write a Python program to sort files by date."
   ]
  },
  {
   "cell_type": "code",
   "execution_count": 19,
   "metadata": {},
   "outputs": [
    {
     "name": "stdout",
     "output_type": "stream",
     "text": [
      "shell.nix\n",
      "Basics Test.ipynb\n"
     ]
    }
   ],
   "source": [
    "# ესეც გაუგებარია\n",
    "import glob\n",
    "import os\n",
    "files = glob.glob(\"*\")\n",
    "files.sort(key=os.path.getmtime)\n",
    "print(\"\\n\".join(files))"
   ]
  },
  {
   "cell_type": "markdown",
   "metadata": {},
   "source": [
    "62)  Write a Python program to get a directory listing, sorted by creation date."
   ]
  },
  {
   "cell_type": "code",
   "execution_count": null,
   "metadata": {},
   "outputs": [],
   "source": [
    "# ეს კიდევ უფრო გაუგებარია\n",
    "from stat import S_ISREG, ST_CTIME, ST_MODE\n",
    "import os, sys, time\n",
    "dir_path = sys.argv[1] if len(sys.argv) == 2 else r'.'\n",
    "data = (os.path.join(dir_path, fn) for fn in os.listdir(dir_path))\n",
    "data = ((os.stat(path), path) for path in data)\n",
    "data = ((stat[ST_CTIME], path) for stat, path in data if S_ISREG(stat[ST_MODE]))\n",
    "for cdate, path in sorted(data):\n",
    "    print(time.ctime(cdate), os.path.basename(path)) \n"
   ]
  },
  {
   "cell_type": "markdown",
   "metadata": {},
   "source": [
    "63)  Write a Python program to get the details of the math module."
   ]
  },
  {
   "cell_type": "code",
   "execution_count": 20,
   "metadata": {},
   "outputs": [
    {
     "name": "stdout",
     "output_type": "stream",
     "text": [
      "['__doc__', '__file__', '__loader__', '__name__', '__package__', '__spec__', 'acos', 'acosh', 'asin', 'asinh', 'atan', 'atan2', 'atanh', 'cbrt', 'ceil', 'comb', 'copysign', 'cos', 'cosh', 'degrees', 'dist', 'e', 'erf', 'erfc', 'exp', 'exp2', 'expm1', 'fabs', 'factorial', 'floor', 'fmod', 'frexp', 'fsum', 'gamma', 'gcd', 'hypot', 'inf', 'isclose', 'isfinite', 'isinf', 'isnan', 'isqrt', 'lcm', 'ldexp', 'lgamma', 'log', 'log10', 'log1p', 'log2', 'modf', 'nan', 'nextafter', 'perm', 'pi', 'pow', 'prod', 'radians', 'remainder', 'sin', 'sinh', 'sqrt', 'tan', 'tanh', 'tau', 'trunc', 'ulp']\n"
     ]
    }
   ],
   "source": [
    "import math\n",
    "print(dir(math))"
   ]
  },
  {
   "cell_type": "markdown",
   "metadata": {},
   "source": [
    "64) Write a Python program to calculate the midpoints of a line."
   ]
  },
  {
   "cell_type": "code",
   "execution_count": 22,
   "metadata": {},
   "outputs": [
    {
     "name": "stdout",
     "output_type": "stream",
     "text": [
      "3.0 3.0\n"
     ]
    }
   ],
   "source": [
    "x1 = 2\n",
    "y1 = 2\n",
    "x2 = 4\n",
    "y2 = 4\n",
    "print((x1+x2)/2, (y1+y2)/2)"
   ]
  },
  {
   "cell_type": "markdown",
   "metadata": {},
   "source": [
    "65) Write a Python program to hash a word."
   ]
  },
  {
   "cell_type": "code",
   "execution_count": 23,
   "metadata": {},
   "outputs": [
    {
     "name": "stdout",
     "output_type": "stream",
     "text": [
      "-4385751450025283620\n"
     ]
    }
   ],
   "source": [
    "print(hash(input(\"Text: \")))"
   ]
  },
  {
   "cell_type": "markdown",
   "metadata": {},
   "source": [
    "66) Write a Python program to get the copyright information and write Copyright information in Python code."
   ]
  },
  {
   "cell_type": "code",
   "execution_count": 25,
   "metadata": {},
   "outputs": [
    {
     "name": "stdout",
     "output_type": "stream",
     "text": [
      "Copyright (c) 2001-2023 Python Software Foundation.\n",
      "All Rights Reserved.\n",
      "\n",
      "Copyright (c) 2000 BeOpen.com.\n",
      "All Rights Reserved.\n",
      "\n",
      "Copyright (c) 1995-2001 Corporation for National Research Initiatives.\n",
      "All Rights Reserved.\n",
      "\n",
      "Copyright (c) 1991-1995 Stichting Mathematisch Centrum, Amsterdam.\n",
      "All Rights Reserved.\n"
     ]
    }
   ],
   "source": [
    "import sys\n",
    "print(sys.copyright)"
   ]
  },
  {
   "cell_type": "markdown",
   "metadata": {},
   "source": [
    "67)  Write a Python program to get the command-line arguments (name of the script, the number of arguments, arguments) passed to a script."
   ]
  },
  {
   "cell_type": "code",
   "execution_count": 26,
   "metadata": {},
   "outputs": [
    {
     "name": "stdout",
     "output_type": "stream",
     "text": [
      "/nix/store/wb31xp493055f9vgiq648bq0yxkfw1j8-python3-3.11.9-env/lib/python3.11/site-packages/ipykernel_launcher.py\n",
      "3\n",
      "['/nix/store/wb31xp493055f9vgiq648bq0yxkfw1j8-python3-3.11.9-env/lib/python3.11/site-packages/ipykernel_launcher.py', '-f', '/home/gurami/.local/share/jupyter/runtime/kernel-de83d38f-b4c2-4dd9-996e-45d5f2f069c9.json']\n"
     ]
    }
   ],
   "source": [
    "import sys\n",
    "print(sys.argv[0])\n",
    "print(len(sys.argv))\n",
    "print(str(sys.argv))"
   ]
  },
  {
   "cell_type": "markdown",
   "metadata": {},
   "source": [
    "68) Write a Python program to test whether the system is a big-endian platform or a little-endian platform."
   ]
  },
  {
   "cell_type": "code",
   "execution_count": 27,
   "metadata": {},
   "outputs": [
    {
     "name": "stdout",
     "output_type": "stream",
     "text": [
      "\n",
      "Little-endian platform.\n",
      "\n"
     ]
    }
   ],
   "source": [
    "import sys\n",
    "print()\n",
    "if sys.byteorder == \"little\":\n",
    "    print(\"Little-endian platform.\")\n",
    "else:\n",
    "    print(\"Big-endian platform.\")\n",
    "print()"
   ]
  },
  {
   "cell_type": "markdown",
   "metadata": {},
   "source": [
    "69) Write a Python program to find the available built-in modules."
   ]
  },
  {
   "cell_type": "code",
   "execution_count": 28,
   "metadata": {},
   "outputs": [
    {
     "name": "stdout",
     "output_type": "stream",
     "text": [
      "_abc, _ast, _codecs, _collections, _functools, _imp, _io, _locale,\n",
      "_operator, _signal, _sre, _stat, _string, _symtable, _thread,\n",
      "_tokenize, _tracemalloc, _warnings, _weakref, atexit, builtins, errno,\n",
      "faulthandler, gc, itertools, marshal, posix, pwd, sys, time, xxsubtype\n"
     ]
    }
   ],
   "source": [
    "import sys\n",
    "import textwrap\n",
    "module_name = ', '.join(sorted(sys.builtin_module_names))\n",
    "print(textwrap.fill(module_name, width=70))"
   ]
  },
  {
   "cell_type": "markdown",
   "metadata": {},
   "source": [
    "70) Write a Python program to get the size of an object in byte"
   ]
  },
  {
   "cell_type": "code",
   "execution_count": 29,
   "metadata": {},
   "outputs": [
    {
     "name": "stdout",
     "output_type": "stream",
     "text": [
      "52\n"
     ]
    }
   ],
   "source": [
    "import sys\n",
    "x = 'abc'\n",
    "print(sys.getsizeof(x))"
   ]
  },
  {
   "cell_type": "markdown",
   "metadata": {},
   "source": [
    " 71) Write a Python program to get the current value of the recursion limit."
   ]
  },
  {
   "cell_type": "code",
   "execution_count": 30,
   "metadata": {},
   "outputs": [
    {
     "name": "stdout",
     "output_type": "stream",
     "text": [
      "3000\n"
     ]
    }
   ],
   "source": [
    "import sys\n",
    "print(sys.getrecursionlimit())"
   ]
  },
  {
   "cell_type": "markdown",
   "metadata": {},
   "source": [
    "72) Write a Python program to concatenate N strings."
   ]
  },
  {
   "cell_type": "code",
   "execution_count": null,
   "metadata": {},
   "outputs": [],
   "source": [
    "list_of_colors = ['Red', 'White', 'Black']\n",
    "print(\";\".join(list_of_colors))"
   ]
  },
  {
   "cell_type": "markdown",
   "metadata": {},
   "source": [
    "73) Write a Python program to calculate the sum of all items of a container (tuple, list, set, dictionary)."
   ]
  },
  {
   "cell_type": "code",
   "execution_count": 7,
   "metadata": {},
   "outputs": [
    {
     "name": "stdout",
     "output_type": "stream",
     "text": [
      "60\n"
     ]
    }
   ],
   "source": [
    "sum_container = sum([10,20,30])\n",
    "print(sum_container)"
   ]
  },
  {
   "cell_type": "markdown",
   "metadata": {},
   "source": [
    "74) Write a Python program to test whether all numbers in a list are greater than a certain number."
   ]
  },
  {
   "cell_type": "code",
   "execution_count": null,
   "metadata": {},
   "outputs": [],
   "source": [
    "data = [3,5,8,9]\n",
    "if all(i > 4 for i in data):\n",
    "    print(True)\n",
    "else:\n",
    "    print(False)"
   ]
  },
  {
   "cell_type": "markdown",
   "metadata": {},
   "source": [
    "75) Write a Python program to count the number of occurrences of a specific character in a string."
   ]
  },
  {
   "cell_type": "code",
   "execution_count": 9,
   "metadata": {},
   "outputs": [
    {
     "name": "stdout",
     "output_type": "stream",
     "text": [
      "3\n"
     ]
    }
   ],
   "source": [
    "string = input(\"Text: \")\n",
    "letter = input(\"Letter: \")\n",
    "count= 0\n",
    "for i in string:\n",
    "    if i == letter:\n",
    "        count += 1\n",
    "print(count)"
   ]
  },
  {
   "cell_type": "markdown",
   "metadata": {},
   "source": [
    "76)  Write a Python program to check whether a file path is a file or a directory."
   ]
  },
  {
   "cell_type": "code",
   "execution_count": 31,
   "metadata": {},
   "outputs": [
    {
     "name": "stdout",
     "output_type": "stream",
     "text": [
      "is file\n"
     ]
    }
   ],
   "source": [
    "import os\n",
    "path = 'shell.nix'\n",
    "if os.path.isdir(path):\n",
    "    print(\"is dir\")\n",
    "elif os.path.isfile(path):\n",
    "    print(\"is file\")"
   ]
  },
  {
   "cell_type": "markdown",
   "metadata": {},
   "source": [
    "77) Write a Python program to get the ASCII value of a character."
   ]
  },
  {
   "cell_type": "code",
   "execution_count": 1,
   "metadata": {},
   "outputs": [
    {
     "name": "stdout",
     "output_type": "stream",
     "text": [
      " ____          _      ____                             \n",
      "| __ )   ___  | |__  | __ )   __ _   ___   ___   _ __  \n",
      "|  _ \\  / _ \\ | '_ \\ |  _ \\  / _` | / __| / _ \\ | '_ \\ \n",
      "| |_) || (_) || |_) || |_) || (_| || (__ | (_) || | | |\n",
      "|____/  \\___/ |_.__/ |____/  \\__,_| \\___| \\___/ |_| |_|\n",
      "                                                       \n",
      "\n"
     ]
    }
   ],
   "source": [
    "from art import tprint\n",
    "tprint(input(\"Text: \"))"
   ]
  },
  {
   "cell_type": "markdown",
   "metadata": {},
   "source": [
    "78) Write a Python program to get the size of a file."
   ]
  },
  {
   "cell_type": "code",
   "execution_count": 33,
   "metadata": {},
   "outputs": [
    {
     "name": "stdout",
     "output_type": "stream",
     "text": [
      "366 bytes\n"
     ]
    }
   ],
   "source": [
    "import os\n",
    "print(os.path.getsize('shell.nix'), 'bytes')"
   ]
  },
  {
   "cell_type": "markdown",
   "metadata": {},
   "source": [
    "79) Given variables x=30 and y=20, write a Python program to print \"30+20=50\"."
   ]
  },
  {
   "cell_type": "code",
   "execution_count": 14,
   "metadata": {},
   "outputs": [
    {
     "name": "stdout",
     "output_type": "stream",
     "text": [
      "30+20=50\n"
     ]
    }
   ],
   "source": [
    "x = 30\n",
    "y = 20\n",
    "print(f'{x}+{y}={x+y}')"
   ]
  },
  {
   "cell_type": "markdown",
   "metadata": {},
   "source": [
    "80) Write a Python program to perform an action if a condition is true.\n",
    "\n",
    "Given a variable name, if the value is 1, display the string \"First day of a Month!\" and do nothing if the value is not equal."
   ]
  },
  {
   "cell_type": "code",
   "execution_count": 27,
   "metadata": {},
   "outputs": [
    {
     "name": "stdout",
     "output_type": "stream",
     "text": [
      "First day of a Month!\n"
     ]
    }
   ],
   "source": [
    "import random\n",
    "n = random.randint(0,1)\n",
    "if n == 1:\n",
    "    print(\"First day of a Month!\")\n"
   ]
  },
  {
   "cell_type": "markdown",
   "metadata": {},
   "source": [
    "81)  Write a Python program to create a copy of its own source code."
   ]
  },
  {
   "cell_type": "code",
   "execution_count": null,
   "metadata": {},
   "outputs": [],
   "source": [
    "# Define a function named file_copy that takes two arguments: src (source file) and dest (destination file).\n",
    "def file_copy(src, dest):\n",
    "    # Use the 'with' statement to open the source file for reading ('r') and the destination file for writing ('w').\n",
    "    with open(src) as f, open(dest, 'w') as d:\n",
    "        # Read the content of the source file and write it to the destination file.\n",
    "\n",
    "# Call the file_copy function with the source file \"untitled0.py\" and the destination file \"z.py\".\n",
    "file_copy(\"untitled0.py\", \"z.py\")\n",
    "\n",
    "# Use the 'with' statement to open the 'z.py' file for reading ('r').\n",
    "with open('z.py', 'r') as filehandle:\n",
    "    # Iterate through the lines in the 'z.py' file.\n",
    "    for line in filehandle:\n",
    "        # Print each line, and specify 'end' as an empty string to avoid extra line breaks.\n",
    "        print(line, end = '')"
   ]
  },
  {
   "cell_type": "markdown",
   "metadata": {},
   "source": [
    "82) Write a Python program to swap two variables."
   ]
  },
  {
   "cell_type": "code",
   "execution_count": 28,
   "metadata": {},
   "outputs": [
    {
     "name": "stdout",
     "output_type": "stream",
     "text": [
      "30 60\n",
      "60 30\n"
     ]
    }
   ],
   "source": [
    "a = 30\n",
    "b = 60\n",
    "\n",
    "print(a,b)\n",
    "a,b = b,a\n",
    "print(a,b)"
   ]
  },
  {
   "cell_type": "markdown",
   "metadata": {},
   "source": [
    "83) Write a Python program to define a string containing special characters in various forms."
   ]
  },
  {
   "cell_type": "code",
   "execution_count": 35,
   "metadata": {},
   "outputs": [
    {
     "name": "stdout",
     "output_type": "stream",
     "text": [
      "\\#{'}${\"}@/\n",
      "\\#{'}${\"}@/\n",
      "\\#{'}${\"}@/\n",
      "\\#{'}${\"}@/\n",
      "\\#{'}${\"}@/\n",
      "\\#{'}${\"}@/\n"
     ]
    }
   ],
   "source": [
    "print(\"\\#{'}${\\\"}@/\")\n",
    "\n",
    "# Print a string containing special characters with escaped single quotes.\n",
    "print(\"\\#{'}${\\\"}@/\")\n",
    "\n",
    "# Print a raw string using triple-quotes with special characters.\n",
    "print(r\"\"\"\\#{'}${\"}@/\"\"\")\n",
    "\n",
    "# Print a string containing special characters without escaping.\n",
    "print('\\#{\\'}${\"}@/')\n",
    "\n",
    "# Print a string containing special characters with escaped single quotes.\n",
    "print('\\#{'\"'\"'}${\"}@/')\n",
    "\n",
    "# Print a raw string using triple-quotes with special characters.\n",
    "print(r'''\\#{'}${\"}@/''')"
   ]
  },
  {
   "cell_type": "markdown",
   "metadata": {},
   "source": [
    "84) Write a Python program to get the Identity, Type, and Value of an object."
   ]
  },
  {
   "cell_type": "code",
   "execution_count": 31,
   "metadata": {},
   "outputs": [
    {
     "name": "stdout",
     "output_type": "stream",
     "text": [
      "20 <class 'int'> 125324412843816\n"
     ]
    }
   ],
   "source": [
    "x = 20\n",
    "print(x, type(x), id(x))"
   ]
  },
  {
   "cell_type": "markdown",
   "metadata": {},
   "source": [
    "85) Write a Python program to check whether a string is numeric."
   ]
  },
  {
   "cell_type": "code",
   "execution_count": 33,
   "metadata": {},
   "outputs": [
    {
     "name": "stdout",
     "output_type": "stream",
     "text": [
      "True\n"
     ]
    }
   ],
   "source": [
    "string = input(\"Text: \")\n",
    "print(string.isnumeric())"
   ]
  },
  {
   "cell_type": "markdown",
   "metadata": {},
   "source": [
    "86) Write a Python program to print the current call stack."
   ]
  },
  {
   "cell_type": "code",
   "execution_count": null,
   "metadata": {},
   "outputs": [],
   "source": [
    "# Import the 'traceback' module.\n",
    "import traceback\n",
    "\n",
    "# Print an empty line for formatting.\n",
    "print()\n",
    "\n",
    "# Define a function 'f1' that calls the 'abc' function.\n",
    "def f1():\n",
    "    return abc()\n",
    "\n",
    "# Define the 'abc' function that prints the current stack using 'traceback.print_stack()'.\n",
    "def abc():\n",
    "    traceback.print_stack()\n",
    "\n",
    "# Call the 'f1' function, which, in turn, calls the 'abc' function.\n",
    "f1()\n",
    "\n",
    "# Print an empty line for formatting.\n",
    "print()"
   ]
  },
  {
   "cell_type": "markdown",
   "metadata": {},
   "source": [
    "87) Write a Python program to list the special variables used in the language."
   ]
  },
  {
   "cell_type": "code",
   "execution_count": null,
   "metadata": {},
   "outputs": [],
   "source": [
    "# Import the necessary modules.\n",
    "\n",
    "# Create a set 's_var_names' containing unique variable names in the global namespace.\n",
    "s_var_names = sorted((set(globals().keys()) | set(__builtins__.__dict__.keys())) - set('_ names i'.split()))\n",
    "\n",
    "# Print an empty line for formatting.\n",
    "print()\n",
    "\n",
    "# Join variable names in groups of 8 and print them for better readability.\n",
    "print( '\\n'.join(' '.join(s_var_names[i:i+8]) for i in range(0, len(s_var_names), 8)) )\n",
    "\n",
    "# Print an empty line for formatting.\n",
    "print()"
   ]
  },
  {
   "cell_type": "markdown",
   "metadata": {},
   "source": [
    "89) Write a Python program to get system time.\n",
    "\n",
    "Note : The system time is important for debugging, network information, random number seeds, or something as simple as program performance."
   ]
  },
  {
   "cell_type": "code",
   "execution_count": 38,
   "metadata": {},
   "outputs": [
    {
     "name": "stdout",
     "output_type": "stream",
     "text": [
      "2024-07-03 02:05:08.354473\n"
     ]
    }
   ],
   "source": [
    "import datetime\n",
    "print(datetime.datetime.now())"
   ]
  },
  {
   "cell_type": "markdown",
   "metadata": {},
   "source": [
    "90) Write a Python program to clear the screen or terminal."
   ]
  },
  {
   "cell_type": "code",
   "execution_count": 43,
   "metadata": {},
   "outputs": [
    {
     "name": "stdout",
     "output_type": "stream",
     "text": [
      "total 96\n",
      "drwxr-xr-x 4 gurami users  4096 Jul  3 01:31 .\n",
      "drwxr-xr-x 5 gurami users  4096 Jul  2 22:18 ..\n",
      "-rw-r--r-- 1 gurami users 65378 Jul  3 02:06 Basics Test.ipynb\n",
      "drwxr-xr-x 3 gurami users  4096 Jul  2 22:20 .direnv\n",
      "-rw-r--r-- 1 gurami users     8 Jul  2 22:20 .envrc\n",
      "drwxr-xr-x 8 gurami users  4096 Jul  2 22:18 .git\n",
      "-rw-r--r-- 1 gurami users    43 Jul  3 00:09 rame.py\n",
      "-rw-r--r-- 1 gurami users   366 Jun 30 23:48 shell.nix\n",
      "lrwxrwxrwx 1 gurami users    62 Jul  3 00:00 .venv -> /nix/store/wb31xp493055f9vgiq648bq0yxkfw1j8-python3-3.11.9-env\n",
      "\u001b[H\u001b[2J"
     ]
    },
    {
     "data": {
      "text/plain": [
       "0"
      ]
     },
     "execution_count": 43,
     "metadata": {},
     "output_type": "execute_result"
    }
   ],
   "source": [
    "from subprocess import call\n",
    "call([\"ls\", \"-la\"])\n",
    "call([\"clear\"])"
   ]
  },
  {
   "cell_type": "markdown",
   "metadata": {},
   "source": [
    "91) Write a Python program to get the name of the host on which the routine is running."
   ]
  },
  {
   "cell_type": "code",
   "execution_count": null,
   "metadata": {},
   "outputs": [],
   "source": [
    "# Import the 'socket' module to work with networking functionalities.\n",
    "\n",
    "import socket\n",
    "# Use 'socket.gethostname()' to retrieve the name of the current host or machine.\n",
    "host_name = socket.gethostname()\n",
    "\n",
    "# Print the host name to the console.\n",
    "print(\"Host name:\", host_name)"
   ]
  },
  {
   "cell_type": "markdown",
   "metadata": {},
   "source": [
    "92) Write a Python program to access and print a URL's content to the console."
   ]
  },
  {
   "cell_type": "code",
   "execution_count": null,
   "metadata": {},
   "outputs": [],
   "source": [
    "# Import the HTTPConnection class from the http.client module.\n",
    "from http.client import HTTPConnection\n",
    "\n",
    "# Create an HTTPConnection object for the \"example.com\" host.\n",
    "conn = HTTPConnection(\"example.com\")\n",
    "\n",
    "# Send a GET request to the root path (\"/\") of the host.\n",
    "conn.request(\"GET\", \"/\")\n",
    "\n",
    "# Get the response from the server.\n",
    "result = conn.getresponse()\n",
    "\n",
    "# Retrieve the entire contents of the response.\n",
    "contents = result.read()\n",
    "\n",
    "# Print the contents of the response.\n",
    "print(contents)"
   ]
  },
  {
   "cell_type": "markdown",
   "metadata": {},
   "source": [
    "93) Write a Python program to get system command output."
   ]
  },
  {
   "cell_type": "code",
   "execution_count": null,
   "metadata": {},
   "outputs": [],
   "source": [
    "# Import the subprocess module to run shell commands.\n",
    "import subprocess\n",
    "# Use the 'subprocess.check_output' function to execute the 'dir' command in the shell.\n",
    "# 'universal_newlines=True' ensures text mode for cross-platform compatibility.\n",
    "returned_text = subprocess.check_output(\"dir\", shell=True, universal_newlines=True)\n",
    "# Print a message indicating the purpose of running the 'dir' command.\n",
    "print(\"dir command to list files and directories\")\n",
    "# Print the output (list of files and directories) returned by the 'dir' command.\n",
    "print(returned_text)"
   ]
  },
  {
   "cell_type": "markdown",
   "metadata": {},
   "source": [
    "94) Write a Python program to extract the filename from a given path."
   ]
  },
  {
   "cell_type": "code",
   "execution_count": null,
   "metadata": {},
   "outputs": [],
   "source": [
    "# Import the 'os' module for operating system-related functions.\n",
    "import os\n",
    "\n",
    "# Print a newline for clarity.\n",
    "print()\n",
    "\n",
    "# Use 'os.path.basename' to extract the filename component from the given path.\n",
    "# In this case, it extracts the filename 'homework-1.py' from the provided path.\n",
    "print(os.path.basename('/users/system1/student1/homework-1.py'))\n",
    "\n",
    "# Print another newline for clarity.\n",
    "print()"
   ]
  },
  {
   "cell_type": "markdown",
   "metadata": {},
   "source": [
    "95) Write a Python program to get the effective group id, effective user id, real group id, and a list of supplemental group ids associated with the current process.\n",
    "Note: Availability: Unix."
   ]
  },
  {
   "cell_type": "code",
   "execution_count": null,
   "metadata": {},
   "outputs": [],
   "source": [
    "# Import the 'os' module for operating system-related functions.\n",
    "import os\n",
    "\n",
    "# Print a newline for clarity.\n",
    "print()\n",
    "\n",
    "# Get the effective group ID and print it.\n",
    "print(\"Effective group id: \", os.getegid())\n",
    "\n",
    "# Get the effective user ID and print it.\n",
    "print(\"Effective user id: \", os.geteuid())\n",
    "\n",
    "# Get the real group ID and print it.\n",
    "print(\"Real group id: \", os.getgid())\n",
    "\n",
    "# Get the list of supplemental group IDs and print them.\n",
    "print(\"List of supplemental group ids: \", os.getgroups())\n",
    "\n",
    "# Print another newline for clarity.\n",
    "print()"
   ]
  },
  {
   "cell_type": "markdown",
   "metadata": {},
   "source": [
    "96) Write a Python program to get the users environment."
   ]
  },
  {
   "cell_type": "code",
   "execution_count": null,
   "metadata": {},
   "outputs": [],
   "source": [
    "import os\n",
    "print(os.environ)"
   ]
  },
  {
   "cell_type": "markdown",
   "metadata": {},
   "source": [
    "97) Write a Python program to divide a path by the extension separator."
   ]
  },
  {
   "cell_type": "code",
   "execution_count": null,
   "metadata": {},
   "outputs": [],
   "source": [
    "# Import the 'os.path' module for working with file paths.\n",
    "import os.path\n",
    "# Iterate through a list of example file paths.\n",
    "for path in ['test.txt', 'filename', '/user/system/test.txt', '/', '']:\n",
    "    # Print the file path and its corresponding file extension using 'os.path.splitext()'.\n",
    "    print('\"%s\" :' % path, os.path.splitext(path))"
   ]
  },
  {
   "cell_type": "markdown",
   "metadata": {},
   "source": [
    "98) Write a Python program to retrieve file properties."
   ]
  },
  {
   "cell_type": "code",
   "execution_count": null,
   "metadata": {},
   "outputs": [],
   "source": [
    "# Import the 'os.path' and 'time' modules for working with file paths and time-related functions.\n",
    "import os.path\n",
    "import time\n",
    "# Print the name of the current file using '__file__' attribute.\n",
    "print('File         :', __file__)\n",
    "\n",
    "# Print the access time of the current file using 'os.path.getatime()' and 'time.ctime()'.\n",
    "print('Access time  :', time.ctime(os.path.getatime(__file__)))\n",
    "\n",
    "# Print the modified time of the current file using 'os.path.getmtime()' and 'time.ctime()'.\n",
    "print('Modified time:', time.ctime(os.path.getmtime(__file__)))\n",
    "\n",
    "# Print the change time of the current file using 'os.path.getctime()' and 'time.ctime()'.\n",
    "print('Change time  :', time.ctime(os.path.getctime(__file__)))\n",
    "\n",
    "# Print the size of the current file using 'os.path.getsize()'.\n",
    "print('Size         :', os.path.getsize(__file__))"
   ]
  },
  {
   "cell_type": "markdown",
   "metadata": {},
   "source": [
    "99) Write a Python program to find the path to a file or directory when you encounter a path name."
   ]
  },
  {
   "cell_type": "code",
   "execution_count": null,
   "metadata": {},
   "outputs": [],
   "source": [
    "# Import the 'os.path' module for working with file paths.\n",
    "import os.path\n",
    "# Iterate through a list of file paths, including '__file__', the directory of '__file__', '/', and a broken link.\n",
    "for file in [__file__, os.path.dirname(__file__), '/', './broken_link']:\n",
    "    # Print the name of the current file.\n",
    "    print('File        :', file)\n",
    "\n",
    "    # Check if the file path is an absolute path using 'os.path.isabs()'.\n",
    "    print('Absolute    :', os.path.isabs(file))\n",
    "\n",
    "    # Check if the file path points to an existing file using 'os.path.isfile()'.\n",
    "    print('Is File?    :', os.path.isfile(file))\n",
    "\n",
    "    # Check if the file path points to an existing directory using 'os.path.isdir()'.\n",
    "    print('Is Dir?     :', os.path.isdir(file))\n",
    "\n",
    "    # Check if the file path is a symbolic link using 'os.path.islink()'.\n",
    "    print('Is Link?    :', os.path.islink(file))\n",
    "\n",
    "    # Check if the file path exists (regardless of its type) using 'os.path.exists()'.\n",
    "    print('Exists?     :', os.path.exists(file))\n",
    "\n",
    "    # Check if the symbolic link exists using 'os.path.lexists()'.\n",
    "    print('Link Exists?:', os.path.lexists(file))"
   ]
  },
  {
   "cell_type": "markdown",
   "metadata": {},
   "source": [
    "101) Write a Python program to get numbers divisible by fifteen from a list using an anonymous function."
   ]
  },
  {
   "cell_type": "code",
   "execution_count": null,
   "metadata": {},
   "outputs": [],
   "source": [
    "pass"
   ]
  },
  {
   "cell_type": "markdown",
   "metadata": {},
   "source": [
    "102) Write a Python program to make file lists from the current directory using a wildcard."
   ]
  },
  {
   "cell_type": "code",
   "execution_count": null,
   "metadata": {},
   "outputs": [],
   "source": [
    "pass"
   ]
  },
  {
   "cell_type": "markdown",
   "metadata": {},
   "source": [
    "103) Write a Python program to remove the first item from a specified list."
   ]
  },
  {
   "cell_type": "code",
   "execution_count": 46,
   "metadata": {},
   "outputs": [
    {
     "name": "stdout",
     "output_type": "stream",
     "text": [
      "['Black', 'Green', 'White', 'Orange']\n"
     ]
    }
   ],
   "source": [
    "color = [\"Red\", \"Black\", \"Green\", \"White\", \"Orange\"]\n",
    "del color[0]\n",
    "print(color)"
   ]
  },
  {
   "cell_type": "markdown",
   "metadata": {},
   "source": [
    "104) Write a Python program that inputs a number and generates an error message if it is not a number."
   ]
  },
  {
   "cell_type": "code",
   "execution_count": 48,
   "metadata": {},
   "outputs": [
    {
     "name": "stdout",
     "output_type": "stream",
     "text": [
      "not a number\n"
     ]
    }
   ],
   "source": [
    "try:\n",
    "    num = int(input(\"Num: \"))\n",
    "except ValueError:\n",
    "    print(\"not a number\")"
   ]
  },
  {
   "cell_type": "markdown",
   "metadata": {},
   "source": [
    "105) Write a Python program to filter positive numbers from a list."
   ]
  },
  {
   "cell_type": "code",
   "execution_count": 55,
   "metadata": {},
   "outputs": [
    {
     "name": "stdout",
     "output_type": "stream",
     "text": [
      "[34, 1, 0, 12]\n"
     ]
    }
   ],
   "source": [
    "nums = [34, 1, 0, -23, 12, -88]\n",
    "for i in nums:\n",
    "    if i >= 0:\n",
    "        continue\n",
    "    else:\n",
    "        nums.pop(nums.index(i))\n",
    "\n",
    "print(nums)\n",
    "    "
   ]
  },
  {
   "cell_type": "markdown",
   "metadata": {},
   "source": [
    "106) Write a Python program to compute the product of a list of integers (without using a for loop)."
   ]
  },
  {
   "cell_type": "code",
   "execution_count": null,
   "metadata": {},
   "outputs": [],
   "source": [
    "pass"
   ]
  },
  {
   "cell_type": "markdown",
   "metadata": {},
   "source": [
    "107) Write a Python program to print Unicode characters."
   ]
  },
  {
   "cell_type": "code",
   "execution_count": null,
   "metadata": {},
   "outputs": [],
   "source": [
    "pass"
   ]
  },
  {
   "cell_type": "markdown",
   "metadata": {},
   "source": [
    "108) Write a Python program to prove that two string variables of the same value point to the same memory location."
   ]
  },
  {
   "cell_type": "code",
   "execution_count": 57,
   "metadata": {},
   "outputs": [
    {
     "name": "stdout",
     "output_type": "stream",
     "text": [
      "125324412546368 125324412546368\n",
      "True\n"
     ]
    }
   ],
   "source": [
    "str1 = \"abc\"\n",
    "str2 = \"abc\"\n",
    "print(id(str1), id(str2))\n",
    "if id(str1) == id(str2):\n",
    "    print(True)"
   ]
  },
  {
   "cell_type": "markdown",
   "metadata": {},
   "source": [
    "109) Write a Python program to create a bytearray from a list."
   ]
  },
  {
   "cell_type": "code",
   "execution_count": null,
   "metadata": {},
   "outputs": [],
   "source": [
    "pass"
   ]
  },
  {
   "cell_type": "markdown",
   "metadata": {},
   "source": [
    "110) Write a Python program to round a floating-point number to a specified number of decimal places.\n",
    "\n"
   ]
  },
  {
   "cell_type": "code",
   "execution_count": 59,
   "metadata": {},
   "outputs": [
    {
     "name": "stdout",
     "output_type": "stream",
     "text": [
      "212.37\n"
     ]
    }
   ],
   "source": [
    "order_amt = 212.374\n",
    "print('%.2f' % order_amt)"
   ]
  },
  {
   "cell_type": "markdown",
   "metadata": {},
   "source": [
    "111) Write a Python program to format a specified string and limit the length of a string."
   ]
  },
  {
   "cell_type": "code",
   "execution_count": 60,
   "metadata": {},
   "outputs": [
    {
     "name": "stdout",
     "output_type": "stream",
     "text": [
      "gam\n"
     ]
    }
   ],
   "source": [
    "string = input(\"text: \")\n",
    "limit = int(input(\"limit: \"))\n",
    "string = string[:limit]\n",
    "print(string)"
   ]
  },
  {
   "cell_type": "markdown",
   "metadata": {},
   "source": [
    "112) Write a Python program to determine if a variable is defined or not."
   ]
  },
  {
   "cell_type": "code",
   "execution_count": 77,
   "metadata": {},
   "outputs": [
    {
     "name": "stdout",
     "output_type": "stream",
     "text": [
      "Variable is defined.\n"
     ]
    }
   ],
   "source": [
    "# pasuxebshi vnaxe mara ar mushaobs sworad :D\n",
    "try:\n",
    "  y\n",
    "except NameError:\n",
    "  print(\"Variable is not defined....!\")\n",
    "else:\n",
    "  print(\"Variable is defined.\")"
   ]
  },
  {
   "cell_type": "markdown",
   "metadata": {},
   "source": [
    "113) Write a Python program to empty a variable without destroying it.\n",
    "\n",
    "Sample data: n=20\n",
    "d = {\"x\":200}\n",
    "Expected Output : 0\n",
    "{}\n",
    "\n"
   ]
  },
  {
   "cell_type": "code",
   "execution_count": null,
   "metadata": {},
   "outputs": [],
   "source": [
    "pass"
   ]
  },
  {
   "cell_type": "markdown",
   "metadata": {},
   "source": [
    "114) Write a Python program to determine the largest and smallest integers, longs, and floats."
   ]
  },
  {
   "cell_type": "code",
   "execution_count": null,
   "metadata": {},
   "outputs": [],
   "source": [
    "pass"
   ]
  },
  {
   "cell_type": "markdown",
   "metadata": {},
   "source": [
    "115) Write a Python program to check whether multiple variables have the same value."
   ]
  },
  {
   "cell_type": "code",
   "execution_count": 81,
   "metadata": {},
   "outputs": [
    {
     "name": "stdout",
     "output_type": "stream",
     "text": [
      "True\n"
     ]
    }
   ],
   "source": [
    "x = 2\n",
    "y = 2\n",
    "if x == y:\n",
    "    print(True)\n",
    "else:\n",
    "    print(False)"
   ]
  },
  {
   "cell_type": "markdown",
   "metadata": {},
   "source": [
    "116) Write a Python program to sum all counts in a collection."
   ]
  },
  {
   "cell_type": "code",
   "execution_count": 82,
   "metadata": {},
   "outputs": [
    {
     "name": "stdout",
     "output_type": "stream",
     "text": [
      "9\n"
     ]
    }
   ],
   "source": [
    "# es ar gagvivlia da pasuxebshi vnaxe\n",
    "import collections\n",
    "num = [2, 2, 4, 6, 6, 8, 6, 10, 4]\n",
    "result = sum(collections.Counter(num).values())\n",
    "print(result)"
   ]
  },
  {
   "cell_type": "markdown",
   "metadata": {},
   "source": [
    "117) Write a Python program to get the actual module object for a given object."
   ]
  },
  {
   "cell_type": "code",
   "execution_count": null,
   "metadata": {},
   "outputs": [],
   "source": [
    "pass"
   ]
  },
  {
   "cell_type": "markdown",
   "metadata": {},
   "source": [
    "118) Write a Python program to check whether an integer fits in 64 bits."
   ]
  },
  {
   "cell_type": "code",
   "execution_count": 93,
   "metadata": {},
   "outputs": [
    {
     "name": "stdout",
     "output_type": "stream",
     "text": [
      "False\n"
     ]
    }
   ],
   "source": [
    "x = 172487126387126378125387125381253\n",
    "if x.bit_length() <= 63:\n",
    "    print(True)\n",
    "else:\n",
    "    print(False)"
   ]
  },
  {
   "cell_type": "markdown",
   "metadata": {},
   "source": [
    "119) Write a Python program to check whether lowercase letters exist in a string."
   ]
  },
  {
   "cell_type": "code",
   "execution_count": 96,
   "metadata": {},
   "outputs": [],
   "source": [
    "string = input(\"Text: \")\n",
    "for i in string:\n",
    "    if i == i.lower():\n",
    "        print(True)\n",
    "        break\n",
    "    else:\n",
    "        continue"
   ]
  },
  {
   "cell_type": "markdown",
   "metadata": {},
   "source": [
    "120) Write a Python program to add leading zeroes to a string."
   ]
  },
  {
   "cell_type": "code",
   "execution_count": 97,
   "metadata": {},
   "outputs": [
    {
     "name": "stdout",
     "output_type": "stream",
     "text": [
      "good job000000000000000000000000000000000000000000\n"
     ]
    }
   ],
   "source": [
    "string = input(\"Text: \")\n",
    "print(string.ljust(50,'0'))"
   ]
  },
  {
   "cell_type": "markdown",
   "metadata": {},
   "source": [
    "121) Write a Python program that uses double quotes to display strings."
   ]
  },
  {
   "cell_type": "code",
   "execution_count": 98,
   "metadata": {},
   "outputs": [
    {
     "name": "stdout",
     "output_type": "stream",
     "text": [
      "{\"Alex\": 1, \"Suresh\": 2, \"Agnessa\": 3}\n"
     ]
    }
   ],
   "source": [
    "import json \n",
    "data = {'Alex': 1, 'Suresh': 2, 'Agnessa': 3}\n",
    "print(json.dumps(data))"
   ]
  },
  {
   "cell_type": "markdown",
   "metadata": {},
   "source": [
    "122) Write a Python program to split a variable length string into variables."
   ]
  },
  {
   "cell_type": "code",
   "execution_count": null,
   "metadata": {},
   "outputs": [],
   "source": [
    "pass"
   ]
  },
  {
   "cell_type": "markdown",
   "metadata": {},
   "source": [
    "123) Write a Python program to list the home directory without an absolute path."
   ]
  },
  {
   "cell_type": "code",
   "execution_count": 99,
   "metadata": {},
   "outputs": [
    {
     "name": "stdout",
     "output_type": "stream",
     "text": [
      "/home/gurami\n"
     ]
    }
   ],
   "source": [
    "import os.path\n",
    "print(os.path.expanduser('~'))"
   ]
  },
  {
   "cell_type": "markdown",
   "metadata": {},
   "source": [
    "124) Write a Python program to calculate the time runs (difference between start and current time) of a program."
   ]
  },
  {
   "cell_type": "code",
   "execution_count": null,
   "metadata": {},
   "outputs": [],
   "source": [
    "pass"
   ]
  },
  {
   "cell_type": "markdown",
   "metadata": {},
   "source": [
    "125) Write a Python program to input two integers on a single line."
   ]
  },
  {
   "cell_type": "code",
   "execution_count": null,
   "metadata": {},
   "outputs": [],
   "source": [
    "pass"
   ]
  },
  {
   "cell_type": "markdown",
   "metadata": {},
   "source": [
    "126) Write a Python program to print a variable without spaces between values.\n",
    "Sample value : x =30\n",
    "Expected output : Value of x is \"30\"\n",
    "\n"
   ]
  },
  {
   "cell_type": "code",
   "execution_count": 100,
   "metadata": {},
   "outputs": [
    {
     "name": "stdout",
     "output_type": "stream",
     "text": [
      "value of X is 30\n"
     ]
    }
   ],
   "source": [
    "x = 30\n",
    "print(f\"value of X is {x}\")"
   ]
  },
  {
   "cell_type": "markdown",
   "metadata": {},
   "source": [
    "127) Write a Python program to find files and skip directories in a given directory."
   ]
  },
  {
   "cell_type": "code",
   "execution_count": null,
   "metadata": {},
   "outputs": [],
   "source": [
    "pass"
   ]
  },
  {
   "cell_type": "markdown",
   "metadata": {},
   "source": [
    "128) Write a Python program to extract a single key-value pair from a dictionary into variables."
   ]
  },
  {
   "cell_type": "code",
   "execution_count": null,
   "metadata": {},
   "outputs": [],
   "source": [
    "pass"
   ]
  },
  {
   "cell_type": "markdown",
   "metadata": {},
   "source": [
    "129) Write a Python program to convert true to 1 and false to 0."
   ]
  },
  {
   "cell_type": "code",
   "execution_count": 101,
   "metadata": {},
   "outputs": [
    {
     "name": "stdout",
     "output_type": "stream",
     "text": [
      "1\n"
     ]
    }
   ],
   "source": [
    "x = 30\n",
    "print(int(x == 30))"
   ]
  },
  {
   "cell_type": "markdown",
   "metadata": {},
   "source": [
    "130) Write a Python program to validate an IP address."
   ]
  },
  {
   "cell_type": "code",
   "execution_count": null,
   "metadata": {},
   "outputs": [],
   "source": [
    "pass"
   ]
  },
  {
   "cell_type": "markdown",
   "metadata": {},
   "source": [
    "131) Write a Python program to convert an integer to binary that keeps leading zeros.\n",
    "Sample data : x=12\n",
    "Expected output : 00001100\n",
    "0000001100"
   ]
  },
  {
   "cell_type": "code",
   "execution_count": 110,
   "metadata": {},
   "outputs": [
    {
     "name": "stdout",
     "output_type": "stream",
     "text": [
      "0000010100\n"
     ]
    }
   ],
   "source": [
    "x = 20\n",
    "print(format(x, '010b'))"
   ]
  },
  {
   "cell_type": "markdown",
   "metadata": {},
   "source": [
    "132) Write a python program to convert decimal to hexadecimal.\n",
    "Sample decimal number: 30, 4\n",
    "Expected output: 1e, 04"
   ]
  },
  {
   "cell_type": "code",
   "execution_count": 114,
   "metadata": {},
   "outputs": [
    {
     "name": "stdout",
     "output_type": "stream",
     "text": [
      "0000000014\n"
     ]
    }
   ],
   "source": [
    "x = 20\n",
    "print(format(x, '010x'))"
   ]
  },
  {
   "cell_type": "markdown",
   "metadata": {},
   "source": [
    "133) Write a Python program to check if every consecutive sequence of zeroes is followed by a consecutive sequence of ones of same length in a given string. Return True/False.\n",
    "Original sequence: 01010101\n",
    "Check if every consecutive sequence of zeroes is followed by a consecutive sequence of ones in the said string:\n",
    "True\n",
    "Original sequence: 00\n",
    "Check if every consecutive sequence of zeroes is followed by a consecutive sequence of ones in the said string:\n",
    "False\n",
    "Original sequence: 000111000111\n",
    "Check if every consecutive sequence of zeroes is followed by a consecutive sequence of ones in the said string:\n",
    "True\n",
    "Original sequence: 00011100011\n",
    "Check if every consecutive sequence of zeroes is followed by a consecutive sequence of ones in the said string:\n",
    "False"
   ]
  },
  {
   "cell_type": "code",
   "execution_count": null,
   "metadata": {},
   "outputs": [],
   "source": [
    "pass"
   ]
  },
  {
   "cell_type": "markdown",
   "metadata": {},
   "source": [
    "134) Write a Python program to determine if the Python shell is executing in 32-bit or 64-bit mode on the operating system."
   ]
  },
  {
   "cell_type": "code",
   "execution_count": null,
   "metadata": {},
   "outputs": [],
   "source": [
    "pass"
   ]
  },
  {
   "cell_type": "markdown",
   "metadata": {},
   "source": [
    "135) Write a Python program to check whether a variable is an integer or string."
   ]
  },
  {
   "cell_type": "code",
   "execution_count": 115,
   "metadata": {},
   "outputs": [
    {
     "name": "stdout",
     "output_type": "stream",
     "text": [
      "<class 'int'> <class 'str'>\n"
     ]
    }
   ],
   "source": [
    "x = 20\n",
    "y = 'asd'\n",
    "print(type(20), type(y))"
   ]
  },
  {
   "cell_type": "markdown",
   "metadata": {},
   "source": [
    "136) Write a Python program to test if a variable is a list, tuple, or set."
   ]
  },
  {
   "cell_type": "code",
   "execution_count": null,
   "metadata": {},
   "outputs": [],
   "source": [
    "pass"
   ]
  },
  {
   "cell_type": "markdown",
   "metadata": {},
   "source": [
    "137) Write a Python program to find the location of Python module sources."
   ]
  },
  {
   "cell_type": "code",
   "execution_count": null,
   "metadata": {},
   "outputs": [],
   "source": [
    "pass"
   ]
  },
  {
   "cell_type": "markdown",
   "metadata": {},
   "source": [
    "138) Write a Python function to check whether a number is divisible by another number. Accept two integer values from the user."
   ]
  },
  {
   "cell_type": "code",
   "execution_count": 117,
   "metadata": {},
   "outputs": [
    {
     "name": "stdout",
     "output_type": "stream",
     "text": [
      "False\n"
     ]
    }
   ],
   "source": [
    "x = int(input(\"Num1: \"))\n",
    "y = int(input(\"Num2: \"))\n",
    "if x % 2 == 0:\n",
    "    print(True)\n",
    "else:\n",
    "    print(False)"
   ]
  },
  {
   "cell_type": "markdown",
   "metadata": {},
   "source": [
    "139) Write a Python function to find the maximum and minimum numbers from a sequence of numbers.\n",
    "Note: Do not use built-in functions."
   ]
  },
  {
   "cell_type": "code",
   "execution_count": null,
   "metadata": {},
   "outputs": [],
   "source": [
    "pass"
   ]
  },
  {
   "cell_type": "markdown",
   "metadata": {},
   "source": [
    "140) Write a Python function that takes a positive integer and returns the sum of the cube of all positive integers smaller than the specified number."
   ]
  },
  {
   "cell_type": "code",
   "execution_count": 121,
   "metadata": {},
   "outputs": [
    {
     "name": "stdout",
     "output_type": "stream",
     "text": [
      "784\n"
     ]
    }
   ],
   "source": [
    "n = int(input(\"Num: \"))\n",
    "n -= 1\n",
    "total = 0\n",
    "while n > 0:\n",
    "    total += n**3\n",
    "    n -= 1\n",
    "print(total)"
   ]
  },
  {
   "cell_type": "markdown",
   "metadata": {},
   "source": [
    "141) Write a Python function to check whether a distinct pair of numbers whose product is odd is present in a sequence of integer values."
   ]
  },
  {
   "cell_type": "code",
   "execution_count": null,
   "metadata": {},
   "outputs": [],
   "source": [
    "pass"
   ]
  }
 ],
 "metadata": {
  "kernelspec": {
   "display_name": "Python 3",
   "language": "python",
   "name": "python3"
  },
  "language_info": {
   "codemirror_mode": {
    "name": "ipython",
    "version": 3
   },
   "file_extension": ".py",
   "mimetype": "text/x-python",
   "name": "python",
   "nbconvert_exporter": "python",
   "pygments_lexer": "ipython3",
   "version": "3.11.9"
  }
 },
 "nbformat": 4,
 "nbformat_minor": 2
}

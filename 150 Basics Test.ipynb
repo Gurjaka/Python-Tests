{
 "cells": [
  {
   "cell_type": "markdown",
   "metadata": {},
   "source": [
    "1) Write a Python program that accepts an integer (n) and computes the value of n+nn+nnn.\n",
    "Sample value of n is 5\n",
    "Expected Result : 615"
   ]
  },
  {
   "cell_type": "code",
   "execution_count": 59,
   "metadata": {},
   "outputs": [
    {
     "name": "stdout",
     "output_type": "stream",
     "text": [
      "615\n"
     ]
    }
   ],
   "source": [
    "n = int(input(\"N: \"))\n",
    "n2 = int(\"%s%s\" %(n,n))\n",
    "n3 = int(\"%s%s%s\" %(n,n,n))\n",
    "print(n+n2+n3)"
   ]
  },
  {
   "cell_type": "markdown",
   "metadata": {},
   "source": [
    "2) Write a Python program to print the documents (syntax, description etc.) of Python built-in function(s).\n",
    "Sample function : abs()\n",
    "Expected Result :\n",
    "abs(number) -> number\n",
    "Return the absolute value of the argument."
   ]
  },
  {
   "cell_type": "code",
   "execution_count": 16,
   "metadata": {},
   "outputs": [
    {
     "name": "stdout",
     "output_type": "stream",
     "text": [
      "abs(number) -> Number \n",
      "Return the absolute value of the argument.\n"
     ]
    }
   ],
   "source": [
    "print(f'abs(number) -> Number \\n{abs.__doc__}')"
   ]
  },
  {
   "cell_type": "markdown",
   "metadata": {},
   "source": [
    "3) Write a Python program that prints the calendar for a given month and year.\n",
    "Note : Use 'calendar' module."
   ]
  },
  {
   "cell_type": "code",
   "execution_count": 17,
   "metadata": {},
   "outputs": [
    {
     "name": "stdout",
     "output_type": "stream",
     "text": [
      "     April 2024\n",
      "Mo Tu We Th Fr Sa Su\n",
      " 1  2  3  4  5  6  7\n",
      " 8  9 10 11 12 13 14\n",
      "15 16 17 18 19 20 21\n",
      "22 23 24 25 26 27 28\n",
      "29 30\n",
      "\n"
     ]
    }
   ],
   "source": [
    "import calendar\n",
    "month = int(input(\"Month: \"))\n",
    "year = int(input(\"Year: \"))\n",
    "print(calendar.month(year, month))"
   ]
  },
  {
   "cell_type": "markdown",
   "metadata": {},
   "source": [
    "4) Write a Python program to print the following 'here document'.\n",
    "Sample string :\n",
    "a string that you \"don't\" have to escape\n",
    "This\n",
    "is a ....... multi-line\n",
    "heredoc string --------> example"
   ]
  },
  {
   "cell_type": "code",
   "execution_count": 18,
   "metadata": {},
   "outputs": [
    {
     "name": "stdout",
     "output_type": "stream",
     "text": [
      "a string that you \"don't\" have to escape\n",
      "This\n",
      "is a ....... multi-line\n",
      "heredoc string --------> example\n"
     ]
    }
   ],
   "source": [
    "print(\"\"\"a string that you \"don't\" have to escape\n",
    "This\n",
    "is a ....... multi-line\n",
    "heredoc string --------> example\"\"\")"
   ]
  },
  {
   "cell_type": "markdown",
   "metadata": {},
   "source": [
    "5) Write a Python program to calculate the number of days between two dates.\n",
    "Sample dates : (2014, 7, 2), (2014, 7, 11)\n",
    "Expected output : 9 days"
   ]
  },
  {
   "cell_type": "code",
   "execution_count": 24,
   "metadata": {},
   "outputs": [
    {
     "name": "stdout",
     "output_type": "stream",
     "text": [
      "9 days\n"
     ]
    }
   ],
   "source": [
    "import datetime\n",
    "f_date = datetime.date(2014, 7, 2)\n",
    "l_date = datetime.date(2014, 7, 11)\n",
    "print((l_date - f_date).days, \"days\")"
   ]
  },
  {
   "cell_type": "markdown",
   "metadata": {},
   "source": [
    "6) Write a Python program to get the volume of a sphere with radius 6."
   ]
  },
  {
   "cell_type": "code",
   "execution_count": 25,
   "metadata": {},
   "outputs": [
    {
     "name": "stdout",
     "output_type": "stream",
     "text": [
      "904.7786842338603\n"
     ]
    }
   ],
   "source": [
    "import math\n",
    "r = 6\n",
    "print((4/3)*math.pi*(r**3))"
   ]
  },
  {
   "cell_type": "markdown",
   "metadata": {},
   "source": [
    "7) Write a Python program to calculate the difference between a given number and 17. If the number is greater than 17, return twice the absolute difference."
   ]
  },
  {
   "cell_type": "code",
   "execution_count": 28,
   "metadata": {},
   "outputs": [
    {
     "name": "stdout",
     "output_type": "stream",
     "text": [
      "2\n"
     ]
    }
   ],
   "source": [
    "num = int(input(\"Num: \"))\n",
    "if num <= 17:\n",
    "    print(abs(num - 17))\n",
    "elif num >= 17:\n",
    "    print(2*abs(num-17))"
   ]
  },
  {
   "cell_type": "markdown",
   "metadata": {},
   "source": [
    "8) Write a Python program to test whether a number is within 100 of 1000 or 2000."
   ]
  },
  {
   "cell_type": "code",
   "execution_count": 38,
   "metadata": {},
   "outputs": [
    {
     "name": "stdout",
     "output_type": "stream",
     "text": [
      "100-1000\n"
     ]
    }
   ],
   "source": [
    "num = int(input(\"Num: \"))\n",
    "if num in range(100,1000):\n",
    "    print(\"100-1000\")\n",
    "elif num in range(1000, 2000):\n",
    "    print(\"1000-2000\")\n",
    "else:\n",
    "    print(\"not in 100-2000\")"
   ]
  },
  {
   "cell_type": "markdown",
   "metadata": {},
   "source": [
    "9) Write a Python program to calculate the sum of three given numbers. If the values are equal, return three times their sum."
   ]
  },
  {
   "cell_type": "code",
   "execution_count": 32,
   "metadata": {},
   "outputs": [
    {
     "name": "stdout",
     "output_type": "stream",
     "text": [
      "6\n"
     ]
    }
   ],
   "source": [
    "num1 = int(input(\"Num1: \"))\n",
    "num2 = int(input(\"Num2: \"))\n",
    "num3 = int(input(\"Num3: \"))\n",
    "if num1 == num2 == num3:\n",
    "    print(3*(num1+num2+num3))\n",
    "else:\n",
    "    print(num1+num2+num3)"
   ]
  },
  {
   "cell_type": "markdown",
   "metadata": {},
   "source": [
    "10) Write a Python program to get a newly-generated string from a given string where \"Is\" has been added to the front. Return the string unchanged if the given string already begins with \"Is\"."
   ]
  },
  {
   "cell_type": "code",
   "execution_count": 45,
   "metadata": {},
   "outputs": [
    {
     "name": "stdout",
     "output_type": "stream",
     "text": [
      "is gamarjoba\n"
     ]
    }
   ],
   "source": [
    "string = input(\"Text: \")\n",
    "if string[:2].lower() != \"is\":\n",
    "    print(\"Is \"+string)\n",
    "else:\n",
    "    print(string)"
   ]
  },
  {
   "cell_type": "markdown",
   "metadata": {},
   "source": [
    "11) Write a Python program that returns a string that is n (non-negative integer) copies of a given string.\n"
   ]
  },
  {
   "cell_type": "code",
   "execution_count": 41,
   "metadata": {},
   "outputs": [
    {
     "name": "stdout",
     "output_type": "stream",
     "text": [
      "kalbasikalbasikalbasikalbasikalbasi\n"
     ]
    }
   ],
   "source": [
    "string = input(\"Text: \")\n",
    "n = int(input(\"N: \"))\n",
    "while n < 0:\n",
    "    n = int(input(\"N: \"))\n",
    "print(string*n)"
   ]
  },
  {
   "cell_type": "markdown",
   "metadata": {},
   "source": [
    "12) Write a Python program that determines whether a given number (accepted from the user) is even or odd, and prints an appropriate message to the user."
   ]
  },
  {
   "cell_type": "code",
   "execution_count": 43,
   "metadata": {},
   "outputs": [
    {
     "name": "stdout",
     "output_type": "stream",
     "text": [
      "even\n"
     ]
    }
   ],
   "source": [
    "num = int(input(\"Num: \"))\n",
    "if num % 2 == 1:\n",
    "    print(\"odd\")\n",
    "else:\n",
    "    print(\"even\")"
   ]
  },
  {
   "cell_type": "markdown",
   "metadata": {},
   "source": [
    "13) Write a Python program to count the number 4 in a given list."
   ]
  },
  {
   "cell_type": "code",
   "execution_count": 44,
   "metadata": {},
   "outputs": [
    {
     "name": "stdout",
     "output_type": "stream",
     "text": [
      "2\n"
     ]
    }
   ],
   "source": [
    "nums = [1, 4, 6, 7, 4]\n",
    "print(nums.count(4))"
   ]
  },
  {
   "cell_type": "markdown",
   "metadata": {},
   "source": [
    "14) Write a Python program to get n (non-negative integer) copies of the first 2 characters of a given string. Return n copies of the whole string if the length is less than 2."
   ]
  },
  {
   "cell_type": "code",
   "execution_count": 47,
   "metadata": {},
   "outputs": [
    {
     "name": "stdout",
     "output_type": "stream",
     "text": [
      "gagagagaga\n"
     ]
    }
   ],
   "source": [
    "string = input(\"text: \")\n",
    "num = int(input(\"Num: \"))\n",
    "if len(string) < 2:\n",
    "    print(string*num)\n",
    "else:\n",
    "    print(string[:2]*num)"
   ]
  },
  {
   "cell_type": "markdown",
   "metadata": {},
   "source": [
    "15) Write a Python program to test whether a passed letter is a vowel or not.\n"
   ]
  },
  {
   "cell_type": "code",
   "execution_count": 49,
   "metadata": {},
   "outputs": [
    {
     "name": "stdout",
     "output_type": "stream",
     "text": [
      "Isn't vowel\n"
     ]
    }
   ],
   "source": [
    "vowels = \"aeiou\"\n",
    "letter = input(\"Letter: \")\n",
    "if letter in vowels:\n",
    "    print(\"Is vowel\")\n",
    "else:\n",
    "    print(\"Isn't vowel\")"
   ]
  },
  {
   "cell_type": "markdown",
   "metadata": {},
   "source": [
    "16) Write a Python program that checks whether a specified value is contained within a group of values.\n",
    "Test Data :\n",
    "3 -> [1, 5, 8, 3] : True\n",
    "-1 -> [1, 5, 8, 3] : False"
   ]
  },
  {
   "cell_type": "code",
   "execution_count": 51,
   "metadata": {},
   "outputs": [
    {
     "name": "stdout",
     "output_type": "stream",
     "text": [
      "False\n"
     ]
    }
   ],
   "source": [
    "data = [1, 5, 8, 3]\n",
    "num = int(input(\"Num: \"))\n",
    "if num in data:\n",
    "    print(True)\n",
    "else:\n",
    "    print(False)"
   ]
  },
  {
   "cell_type": "markdown",
   "metadata": {},
   "source": [
    "17) Write a Python program to create a histogram from a given list of integers."
   ]
  },
  {
   "cell_type": "code",
   "execution_count": 56,
   "metadata": {},
   "outputs": [
    {
     "name": "stdout",
     "output_type": "stream",
     "text": [
      "**\n",
      "***\n",
      "******\n",
      "*****\n"
     ]
    }
   ],
   "source": [
    "data = [2, 3, 6, 5]\n",
    "for i in data:\n",
    "    print(\"*\"*i)"
   ]
  },
  {
   "cell_type": "markdown",
   "metadata": {},
   "source": [
    "18) Write a Python program that concatenates all elements in a list into a string and returns it."
   ]
  },
  {
   "cell_type": "code",
   "execution_count": 61,
   "metadata": {},
   "outputs": [
    {
     "name": "stdout",
     "output_type": "stream",
     "text": [
      "15122\n"
     ]
    }
   ],
   "source": [
    "data = [1, 5, 12, 2]\n",
    "string = \"\"\n",
    "for i in data:\n",
    "    string += str(i)\n",
    "\n",
    "print(string)"
   ]
  },
  {
   "cell_type": "markdown",
   "metadata": {},
   "source": [
    "19) Write a Python program to print all even numbers from a given list of numbers in the same order and stop printing any after 237 in the sequence.\n",
    "Sample numbers list :\n",
    "\n",
    "numbers = [    \n",
    "    386, 462, 47, 418, 907, 344, 236, 375, 823, 566, 597, 978, 328, 615, 953, 345, \n",
    "    399, 162, 758, 219, 918, 237, 412, 566, 826, 248, 866, 950, 626, 949, 687, 217, \n",
    "    815, 67, 104, 58, 512, 24, 892, 894, 767, 553, 81, 379, 843, 831, 445, 742, 717, \n",
    "    958,743, 527\n",
    "    ]"
   ]
  },
  {
   "cell_type": "code",
   "execution_count": null,
   "metadata": {},
   "outputs": [],
   "source": [
    "numbers = [    \n",
    "    386, 462, 47, 418, 907, 344, 236, 375, 823, 566, 597, 978, 328, 615, 953, 345, \n",
    "    399, 162, 758, 219, 918, 237, 412, 566, 826, 248, 866, 950, 626, 949, 687, 217, \n",
    "    815, 67, 104, 58, 512, 24, 892, 894, 767, 553, 81, 379, 843, 831, 445, 742, 717, \n",
    "    958,743, 527\n",
    "    ]\n",
    "for i in numbers:\n",
    "    if i == 237:\n",
    "        break\n",
    "    if i % 2 == 0:\n",
    "        print(i)"
   ]
  }
 ],
 "metadata": {
  "kernelspec": {
   "display_name": "Python 3",
   "language": "python",
   "name": "python3"
  },
  "language_info": {
   "codemirror_mode": {
    "name": "ipython",
    "version": 3
   },
   "file_extension": ".py",
   "mimetype": "text/x-python",
   "name": "python",
   "nbconvert_exporter": "python",
   "pygments_lexer": "ipython3",
   "version": "3.12.3"
  }
 },
 "nbformat": 4,
 "nbformat_minor": 2
}
